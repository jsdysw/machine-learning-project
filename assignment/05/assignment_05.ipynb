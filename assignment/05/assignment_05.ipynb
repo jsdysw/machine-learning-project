{
  "nbformat": 4,
  "nbformat_minor": 0,
  "metadata": {
    "colab": {
      "name": "assignment_02.ipynb",
      "provenance": [],
      "collapsed_sections": []
    },
    "kernelspec": {
      "name": "python3",
      "display_name": "Python 3.8.8 64-bit ('base': conda)"
    },
    "language_info": {
      "name": "python",
      "version": "3.8.8",
      "mimetype": "text/x-python",
      "codemirror_mode": {
        "name": "ipython",
        "version": 3
      },
      "pygments_lexer": "ipython3",
      "nbconvert_exporter": "python",
      "file_extension": ".py"
    },
    "interpreter": {
      "hash": "dca0ade3e726a953b501b15e8e990130d2b7799f14cfd9f4271676035ebe5511"
    }
  },
  "cells": [
    {
      "cell_type": "markdown",
      "metadata": {
        "id": "K29I-OwCEYzW",
        "outputId": "db8b297c-a4b8-457a-b43f-7570135306c7"
      },
      "source": [
        "# Logistic regression for multi-class classification"
      ]
    },
    {
      "cell_type": "markdown",
      "metadata": {
        "id": "kO3KfQ1HuXcf"
      },
      "source": [
        "## import libraries"
      ]
    },
    {
      "cell_type": "code",
      "metadata": {
        "id": "ypV8jyXiuXcg"
      },
      "source": [
        "import numpy as np\n",
        "import matplotlib.pyplot as plt\n",
        "import os\n",
        "from tqdm import tqdm"
      ],
      "execution_count": 161,
      "outputs": []
    },
    {
      "cell_type": "markdown",
      "metadata": {
        "id": "NErYRpNWuXci"
      },
      "source": [
        "## load data"
      ]
    },
    {
      "cell_type": "code",
      "metadata": {
        "colab": {
          "base_uri": "https://localhost:8080/"
        },
        "id": "K3_FePH-uXcj",
        "outputId": "dedfee9d-add9-4962-d59c-5bedf0f0f4bf"
      },
      "source": [
        "directory_data  = './data/'\n",
        "filename_data   = 'assignment_05_data.npz'\n",
        "data            = np.load(os.path.join(directory_data, filename_data))\n",
        "\n",
        "x_train = data['x_train']\n",
        "y_train = data['y_train']\n",
        "\n",
        "x_test  = data['x_test']\n",
        "y_test  = data['y_test']\n",
        "\n",
        "num_data_train  = x_train.shape[0]\n",
        "num_data_test   = x_test.shape[0]\n",
        "\n",
        "print('*************************************************')\n",
        "print('size of x_train :', x_train.shape)\n",
        "print('size of y_train :', y_train.shape)\n",
        "print('*************************************************')\n",
        "print('size of x_test :', x_test.shape)\n",
        "print('size of y_test :', y_test.shape)\n",
        "print('*************************************************')\n",
        "print('number of training image :', x_train.shape[0])\n",
        "print('height of training image :', x_train.shape[1])\n",
        "print('width of training image :', x_train.shape[2])\n",
        "print('*************************************************')\n",
        "print('number of testing image :', x_test.shape[0])\n",
        "print('height of testing image :', x_test.shape[1])\n",
        "print('width of testing image :', x_test.shape[2])\n",
        "print('*************************************************')"
      ],
      "execution_count": 162,
      "outputs": [
        {
          "output_type": "stream",
          "name": "stdout",
          "text": [
            "*************************************************\n",
            "size of x_train : (20000, 28, 28)\n",
            "size of y_train : (20000, 10)\n",
            "*************************************************\n",
            "size of x_test : (8000, 28, 28)\n",
            "size of y_test : (8000, 10)\n",
            "*************************************************\n",
            "number of training image : 20000\n",
            "height of training image : 28\n",
            "width of training image : 28\n",
            "*************************************************\n",
            "number of testing image : 8000\n",
            "height of testing image : 28\n",
            "width of testing image : 28\n",
            "*************************************************\n"
          ]
        }
      ]
    },
    {
      "cell_type": "markdown",
      "metadata": {
        "id": "la4oMC8nuXcm"
      },
      "source": [
        "## number of classes"
      ]
    },
    {
      "cell_type": "code",
      "metadata": {
        "colab": {
          "base_uri": "https://localhost:8080/"
        },
        "id": "P-p0nzBNuXcn",
        "outputId": "555b87e5-4b31-4d4e-fe80-4683dfab2e12"
      },
      "source": [
        "nClass = y_train.shape[1]\n",
        "\n",
        "print('*************************************************')\n",
        "print('number of classes :', nClass)\n",
        "print('*************************************************')"
      ],
      "execution_count": 163,
      "outputs": [
        {
          "output_type": "stream",
          "name": "stdout",
          "text": [
            "*************************************************\n",
            "number of classes : 10\n",
            "*************************************************\n"
          ]
        }
      ]
    },
    {
      "cell_type": "markdown",
      "metadata": {
        "id": "lVOm_HWFuXco"
      },
      "source": [
        "## vectorize image data"
      ]
    },
    {
      "cell_type": "code",
      "metadata": {
        "colab": {
          "base_uri": "https://localhost:8080/"
        },
        "id": "4qGzxuF8uXcp",
        "outputId": "74424b5d-3db2-42a5-81c5-00af92061d5f"
      },
      "source": [
        "vector_x_train  = x_train.reshape(x_train.shape[0], x_train.shape[1] * x_train.shape[2])\n",
        "vector_x_test   = x_test.reshape(x_test.shape[0], x_test.shape[1] * x_test.shape[2])\n",
        "\n",
        "print('*************************************************')\n",
        "print('dimension of the training data :', vector_x_train.shape)\n",
        "print('dimension of the testing data :', vector_x_test.shape)\n",
        "print('*************************************************')\n",
        "print('dimension of the training label :', y_train.shape)\n",
        "print('dimension of the testing label :', y_test.shape)\n",
        "print('*************************************************')"
      ],
      "execution_count": 164,
      "outputs": [
        {
          "output_type": "stream",
          "name": "stdout",
          "text": [
            "*************************************************\n",
            "dimension of the training data : (20000, 784)\n",
            "dimension of the testing data : (8000, 784)\n",
            "*************************************************\n",
            "dimension of the training label : (20000, 10)\n",
            "dimension of the testing label : (8000, 10)\n",
            "*************************************************\n"
          ]
        }
      ]
    },
    {
      "cell_type": "markdown",
      "metadata": {
        "id": "lGdMvgbuuXcr"
      },
      "source": [
        "## index for each class"
      ]
    },
    {
      "cell_type": "code",
      "metadata": {
        "colab": {
          "base_uri": "https://localhost:8080/"
        },
        "id": "QZMYVWQBuXcr",
        "outputId": "2d64765d-fe0a-4cc0-8ab5-cc58f3d8c803"
      },
      "source": [
        "index_train = {0:[], 1:[], 2:[], 3:[], 4:[], 5:[], 6:[], 7:[], 8:[], 9:[]}\n",
        "index_test  = {0:[], 1:[], 2:[], 3:[], 4:[], 5:[], 6:[], 7:[], 8:[], 9:[]}\n",
        "\n",
        "number_index_train  = np.zeros(nClass)\n",
        "number_index_test   = np.zeros(nClass)\n",
        "\n",
        "print('*************************************************')\n",
        "\n",
        "for i in range(nClass):\n",
        "\n",
        "    index_train[i]  = np.where(y_train[:, i] == 1)\n",
        "    index_test[i]   = np.where(y_test[:, i] == 1)\n",
        "\n",
        "    number_index_train[i]   = np.shape(index_train[i])[1]\n",
        "    number_index_test[i]    = np.shape(index_test[i])[1]\n",
        "\n",
        "    print('number of the training data for class %2d : %5d' % (i, number_index_train[i]))\n",
        "    print('number of the testing data for class %2d : %5d' % (i, number_index_test[i]))\n",
        "\n",
        "print('*************************************************')"
      ],
      "execution_count": 165,
      "outputs": [
        {
          "output_type": "stream",
          "name": "stdout",
          "text": [
            "*************************************************\n",
            "number of the training data for class  0 :  2000\n",
            "number of the testing data for class  0 :   800\n",
            "number of the training data for class  1 :  2000\n",
            "number of the testing data for class  1 :   800\n",
            "number of the training data for class  2 :  2000\n",
            "number of the testing data for class  2 :   800\n",
            "number of the training data for class  3 :  2000\n",
            "number of the testing data for class  3 :   800\n",
            "number of the training data for class  4 :  2000\n",
            "number of the testing data for class  4 :   800\n",
            "number of the training data for class  5 :  2000\n",
            "number of the testing data for class  5 :   800\n",
            "number of the training data for class  6 :  2000\n",
            "number of the testing data for class  6 :   800\n",
            "number of the training data for class  7 :  2000\n",
            "number of the testing data for class  7 :   800\n",
            "number of the training data for class  8 :  2000\n",
            "number of the testing data for class  8 :   800\n",
            "number of the training data for class  9 :  2000\n",
            "number of the testing data for class  9 :   800\n",
            "*************************************************\n"
          ]
        }
      ]
    },
    {
      "cell_type": "markdown",
      "metadata": {
        "id": "JPyvbj0CuXct"
      },
      "source": [
        "## plot data"
      ]
    },
    {
      "cell_type": "code",
      "metadata": {
        "id": "U3gxhv6DuXcu"
      },
      "source": [
        "def plot_data_grid(data, index_data, nRow, nCol):\n",
        "\n",
        "    fig, axes = plt.subplots(nRow, nCol, constrained_layout=True, figsize=(nCol * 3, nRow * 3))\n",
        "\n",
        "    for i in range(nRow):\n",
        "        for j in range(nCol):\n",
        "\n",
        "            k       = i * nCol + j\n",
        "            index   = index_data[k]\n",
        "\n",
        "            axes[i, j].imshow(data[index], cmap='gray', vmin=0, vmax=1)\n",
        "            axes[i, j].xaxis.set_visible(False)\n",
        "            axes[i, j].yaxis.set_visible(False)\n",
        "\n",
        "    plt.show()"
      ],
      "execution_count": 166,
      "outputs": []
    },
    {
      "cell_type": "code",
      "metadata": {
        "id": "YnBKUqo7uXcu"
      },
      "source": [
        "nRow    = 2\n",
        "nCol    = 4\n",
        "nPlot   = nRow * nCol"
      ],
      "execution_count": 167,
      "outputs": []
    },
    {
      "cell_type": "code",
      "metadata": {
        "colab": {
          "base_uri": "https://localhost:8080/",
          "height": 1000
        },
        "id": "_APrrFR9uXcv",
        "outputId": "d68dfe7a-6321-4ab2-f2bf-0248eaee56f5"
      },
      "source": [
        "for i in range(nClass):\n",
        "\n",
        "    index_class_plot = index_train[i][0][0:nPlot]\n",
        "    plot_data_grid(x_train, index_class_plot, nRow, nCol)"
      ],
      "execution_count": 168,
      "outputs": [
        {
          "output_type": "display_data",
          "data": {
            "image/png": "[encoded data removed]",
            "text/plain": [
              "<Figure size 864x432 with 8 Axes>"
            ]
          },
          "metadata": {
            "needs_background": "light"
          }
        },
        {
          "output_type": "display_data",
          "data": {
            "image/png": "[encoded data removed]",
            "text/plain": [
              "<Figure size 864x432 with 8 Axes>"
            ]
          },
          "metadata": {
            "needs_background": "light"
          }
        },
        {
          "output_type": "display_data",
          "data": {
            "image/png": "[encoded data removed]",
            "text/plain": [
              "<Figure size 864x432 with 8 Axes>"
            ]
          },
          "metadata": {
            "needs_background": "light"
          }
        },
        {
          "output_type": "display_data",
          "data": {
            "image/png": "[encoded data removed]",
            "text/plain": [
              "<Figure size 864x432 with 8 Axes>"
            ]
          },
          "metadata": {
            "needs_background": "light"
          }
        },
        {
          "output_type": "display_data",
          "data": {
            "image/png": "[encoded data removed]",
            "text/plain": [
              "<Figure size 864x432 with 8 Axes>"
            ]
          },
          "metadata": {
            "needs_background": "light"
          }
        },
        {
          "output_type": "display_data",
          "data": {
            "image/png": "[encoded data removed]",
            "text/plain": [
              "<Figure size 864x432 with 8 Axes>"
            ]
          },
          "metadata": {
            "needs_background": "light"
          }
        },
        {
          "output_type": "display_data",
          "data": {
            "image/png": "[encoded data removed]",
            "text/plain": [
              "<Figure size 864x432 with 8 Axes>"
            ]
          },
          "metadata": {
            "needs_background": "light"
          }
        },
        {
          "output_type": "display_data",
          "data": {
            "image/png": "[encoded data removed]",
            "text/plain": [
              "<Figure size 864x432 with 8 Axes>"
            ]
          },
          "metadata": {
            "needs_background": "light"
          }
        },
        {
          "output_type": "display_data",
          "data": {
            "image/png": "[encoded data removed]",
            "text/plain": [
              "<Figure size 864x432 with 8 Axes>"
            ]
          },
          "metadata": {
            "needs_background": "light"
          }
        },
        {
          "output_type": "display_data",
          "data": {
            "image/png": "[encoded data removed]",
            "text/plain": [
              "<Figure size 864x432 with 8 Axes>"
            ]
          },
          "metadata": {
            "needs_background": "light"
          }
        }
      ]
    },
    {
      "cell_type": "markdown",
      "metadata": {
        "id": "3hp5G5LYuXcw"
      },
      "source": [
        "## linear layer"
      ]
    },
    {
      "cell_type": "code",
      "metadata": {
        "id": "CS1W9vqbuXcw"
      },
      "source": [
        "def layer_linear(input, weight):\n",
        "\n",
        "    output = np.dot(weight, input.T)\n",
        "\n",
        "    return output"
      ],
      "execution_count": 169,
      "outputs": []
    },
    {
      "cell_type": "markdown",
      "metadata": {
        "id": "kMerreb4uXcx"
      },
      "source": [
        "## Softmax function"
      ]
    },
    {
      "cell_type": "code",
      "metadata": {
        "id": "YCCFXPSGuXcx"
      },
      "source": [
        "def activation_softmax(input):\n",
        "\n",
        "    output = np.transpose(np.tile((1/ np.sum(np.exp(input.T), axis = 1)), (nClass, 1))) * np.exp(input.T)\n",
        "    \n",
        "    return output.T"
      ],
      "execution_count": 202,
      "outputs": []
    },
    {
      "cell_type": "markdown",
      "metadata": {
        "id": "Jc0XQ1abuXcy"
      },
      "source": [
        "## compute prediction by the forward propagation of the neural network"
      ]
    },
    {
      "cell_type": "code",
      "metadata": {
        "id": "mcmohCzJuXcy"
      },
      "source": [
        "def compute_prediction(input, weight):\n",
        "\n",
        "    prediction = activation_softmax(layer_linear(input, weight))\n",
        "\n",
        "    return prediction"
      ],
      "execution_count": 172,
      "outputs": []
    },
    {
      "cell_type": "markdown",
      "metadata": {
        "id": "E95vwSWfuXcy"
      },
      "source": [
        "## compute loss for the cross-entropy term"
      ]
    },
    {
      "cell_type": "code",
      "metadata": {
        "id": "ktxaRXxiuXcz"
      },
      "source": [
        "def compute_loss_cross_entropy(prediction, label):\n",
        "    \n",
        "    loss = -np.sum(label * np.log(prediction.T)) / size_minibatch\n",
        "\n",
        "    return loss"
      ],
      "execution_count": 173,
      "outputs": []
    },
    {
      "cell_type": "markdown",
      "metadata": {
        "id": "8CS836IluXcz"
      },
      "source": [
        "## compute loss for the regularization term"
      ]
    },
    {
      "cell_type": "code",
      "metadata": {
        "id": "EOVI7wqPuXc0"
      },
      "source": [
        "def compute_loss_regularization(alpha, weight):\n",
        "    \n",
        "    loss = alpha / 2 * np.sum((weight ** 2))\n",
        "\n",
        "    return loss"
      ],
      "execution_count": 175,
      "outputs": []
    },
    {
      "cell_type": "markdown",
      "metadata": {
        "id": "qc-KvLQSuXc0"
      },
      "source": [
        "## compute loss function"
      ]
    },
    {
      "cell_type": "code",
      "metadata": {
        "id": "SIX2CaofuXc0"
      },
      "source": [
        "def compute_loss(prediction, label, alpha, weight):\n",
        "\n",
        "    loss = compute_loss_cross_entropy(prediction, label) + compute_loss_regularization(alpha, weight)\n",
        "    \n",
        "    return loss"
      ],
      "execution_count": 176,
      "outputs": []
    },
    {
      "cell_type": "markdown",
      "metadata": {
        "id": "DeP4mCC1uXc0"
      },
      "source": [
        "## compute gradient for the cross-entropy term"
      ]
    },
    {
      "cell_type": "code",
      "metadata": {
        "id": "fpAtfspIuXc1"
      },
      "source": [
        "def compute_gradient_cross_entropy(input, prediction, label):\n",
        "\n",
        "    # residual = prediction.T - label \n",
        "    # s0 = np.sum(np.multiply(residual[:, 0].reshape(len(input),1), input), axis = 0) / len(input)\n",
        "    # s1 = np.sum(np.multiply(residual[:, 1].reshape(len(input),1), input), axis = 0) / len(input)\n",
        "    # s2 = np.sum(np.multiply(residual[:, 2].reshape(len(input),1), input), axis = 0) / len(input)\n",
        "    # s3 = np.sum(np.multiply(residual[:, 3].reshape(len(input),1), input), axis = 0) / len(input)\n",
        "    # s4 = np.sum(np.multiply(residual[:, 4].reshape(len(input),1), input), axis = 0) / len(input)\n",
        "    # s5 = np.sum(np.multiply(residual[:, 5].reshape(len(input),1), input), axis = 0) / len(input)\n",
        "    # s6 = np.sum(np.multiply(residual[:, 6].reshape(len(input),1), input), axis = 0) / len(input)\n",
        "    # s7 = np.sum(np.multiply(residual[:, 7].reshape(len(input),1), input), axis = 0) / len(input)\n",
        "    # s8 = np.sum(np.multiply(residual[:, 8].reshape(len(input),1), input), axis = 0) / len(input)\n",
        "    # s9 = np.sum(np.multiply(residual[:, 9].reshape(len(input),1), input), axis = 0) / len(input)\n",
        "\n",
        "    # gradient = np.array([s0,s1,s2,s3,s4,s5,s6,s7,s8,s9])\n",
        "    gradient = (input.T)@(prediction.T - label)/input.shape[0]\n",
        "\n",
        "    return gradient.T"
      ],
      "execution_count": 205,
      "outputs": []
    },
    {
      "cell_type": "markdown",
      "metadata": {
        "id": "OROzmKC7uXc1"
      },
      "source": [
        "## compute gradient for the regularization term"
      ]
    },
    {
      "cell_type": "code",
      "metadata": {
        "id": "-lb535fluXc1"
      },
      "source": [
        "def compute_gradient_regularization(alpha, weight):\n",
        "    \n",
        "    gradient = alpha * weight\n",
        "\n",
        "    return gradient"
      ],
      "execution_count": 178,
      "outputs": []
    },
    {
      "cell_type": "markdown",
      "metadata": {
        "id": "M5s5XD3muXc1"
      },
      "source": [
        "## compute gradient"
      ]
    },
    {
      "cell_type": "code",
      "metadata": {
        "id": "xEC8XfCJuXc2"
      },
      "source": [
        "def compute_gradient(input, prediction, label, alpha, weight):\n",
        "\n",
        "    gradient = compute_gradient_cross_entropy(input, prediction, label) + compute_gradient_regularization(alpha, weight)\n",
        "\n",
        "    return gradient"
      ],
      "execution_count": 179,
      "outputs": []
    },
    {
      "cell_type": "markdown",
      "metadata": {
        "id": "L5PgwjeBuXc2"
      },
      "source": [
        "## compute accuracy"
      ]
    },
    {
      "cell_type": "code",
      "metadata": {
        "id": "CuhEgK7TuXc2"
      },
      "source": [
        "def compute_accuracy(prediction, label):\n",
        "\n",
        "    bCorrect    = np.equal(np.argmax(prediction.T, axis=1),np.argmax(label, axis=1))\n",
        "    accuracy    = np.sum(bCorrect) / len(prediction.T)\n",
        "    \n",
        "    return accuracy"
      ],
      "execution_count": 180,
      "outputs": []
    },
    {
      "cell_type": "markdown",
      "metadata": {
        "id": "bLaZAclLuXc3"
      },
      "source": [
        "## consider bias in the data"
      ]
    },
    {
      "cell_type": "code",
      "metadata": {
        "colab": {
          "base_uri": "https://localhost:8080/"
        },
        "id": "yasRdM5RHRtw",
        "outputId": "5d8a5583-bfe0-4e56-d95e-fa152639c431"
      },
      "source": [
        "#########################################################################\n",
        "print(vector_x_train.shape)\n",
        "one_train   = np.ones([vector_x_train.shape[0],1])\n",
        "print(one_train)\n",
        "\n",
        "print(np.concatenate((vector_x_train, one_train), axis = 1).shape)"
      ],
      "execution_count": 181,
      "outputs": [
        {
          "output_type": "stream",
          "name": "stdout",
          "text": [
            "(20000, 784)\n",
            "[[1.]\n",
            " [1.]\n",
            " [1.]\n",
            " ...\n",
            " [1.]\n",
            " [1.]\n",
            " [1.]]\n",
            "(20000, 785)\n"
          ]
        }
      ]
    },
    {
      "cell_type": "code",
      "metadata": {
        "colab": {
          "base_uri": "https://localhost:8080/"
        },
        "id": "3ejHCeh3uXc3",
        "outputId": "dcd9b78f-e77c-49ff-b14b-0035e6615f2c"
      },
      "source": [
        "one_train   = np.ones([vector_x_train.shape[0],1])\n",
        "one_test    = np.ones([vector_x_test.shape[0],1])\n",
        "\n",
        "vector_x_train_bias = np.concatenate((vector_x_train, one_train), axis = 1)\n",
        "vector_x_test_bias  = np.concatenate((vector_x_test, one_test), axis = 1)\n",
        "\n",
        "print('dimension of the training data with bias :', vector_x_train_bias.shape)\n",
        "print('dimension of the testing data with bias :', vector_x_test_bias.shape)"
      ],
      "execution_count": 182,
      "outputs": [
        {
          "output_type": "stream",
          "name": "stdout",
          "text": [
            "dimension of the training data with bias : (20000, 785)\n",
            "dimension of the testing data with bias : (8000, 785)\n"
          ]
        }
      ]
    },
    {
      "cell_type": "markdown",
      "metadata": {
        "id": "ZH8hBodnuXc3"
      },
      "source": [
        "## construct model parameters and initialize them"
      ]
    },
    {
      "cell_type": "code",
      "metadata": {
        "colab": {
          "base_uri": "https://localhost:8080/"
        },
        "id": "A4cPj4m9Ff5v",
        "outputId": "d2d45b29-a9f6-4d48-caf1-bc7928f723d7"
      },
      "source": [
        "#########################################################################\n",
        "weight = np.zeros([5, 7])\n",
        "weight[:,:7-1] = 0.001\n",
        "weight[:,7-1:] = 1\n",
        "\n",
        "print(weight)"
      ],
      "execution_count": 183,
      "outputs": [
        {
          "output_type": "stream",
          "name": "stdout",
          "text": [
            "[[0.001 0.001 0.001 0.001 0.001 0.001 1.   ]\n",
            " [0.001 0.001 0.001 0.001 0.001 0.001 1.   ]\n",
            " [0.001 0.001 0.001 0.001 0.001 0.001 1.   ]\n",
            " [0.001 0.001 0.001 0.001 0.001 0.001 1.   ]\n",
            " [0.001 0.001 0.001 0.001 0.001 0.001 1.   ]]\n"
          ]
        }
      ]
    },
    {
      "cell_type": "code",
      "metadata": {
        "id": "KNTft8c9uXc4"
      },
      "source": [
        "def get_weight(dim_input, dim_output):\n",
        "    \n",
        "    weight = np.zeros((dim_output, dim_input))\n",
        "    # initialize the model parameters (linear = 0.001, bias = 1)\n",
        "    weight[:,:dim_input-1] = 0.001\n",
        "    weight[:,dim_input-1:] = 1\n",
        "\n",
        "    return weight"
      ],
      "execution_count": 184,
      "outputs": []
    },
    {
      "cell_type": "code",
      "metadata": {
        "colab": {
          "base_uri": "https://localhost:8080/"
        },
        "id": "vbAyEvF7uXc4",
        "outputId": "b41596c2-000b-4c05-cc8b-2f8eefea14da"
      },
      "source": [
        "dim_input   = vector_x_train_bias.shape[1]  #785\n",
        "dim_output  = nClass                        #10\n",
        "\n",
        "weight = get_weight(dim_input, dim_output)\n",
        "\n",
        "print('dimension of the model parameters: ', weight.shape)\n",
        "print('first row of the weight matrix: ', weight[0, :])"
      ],
      "execution_count": 185,
      "outputs": [
        {
          "output_type": "stream",
          "name": "stdout",
          "text": [
            "dimension of the model parameters:  (10, 785)\n",
            "first row of the weight matrix:  [0.001 0.001 0.001 0.001 0.001 0.001 0.001 0.001 0.001 0.001 0.001 0.001\n",
            " 0.001 0.001 0.001 0.001 0.001 0.001 0.001 0.001 0.001 0.001 0.001 0.001\n",
            " 0.001 0.001 0.001 0.001 0.001 0.001 0.001 0.001 0.001 0.001 0.001 0.001\n",
            " 0.001 0.001 0.001 0.001 0.001 0.001 0.001 0.001 0.001 0.001 0.001 0.001\n",
            " 0.001 0.001 0.001 0.001 0.001 0.001 0.001 0.001 0.001 0.001 0.001 0.001\n",
            " 0.001 0.001 0.001 0.001 0.001 0.001 0.001 0.001 0.001 0.001 0.001 0.001\n",
            " 0.001 0.001 0.001 0.001 0.001 0.001 0.001 0.001 0.001 0.001 0.001 0.001\n",
            " 0.001 0.001 0.001 0.001 0.001 0.001 0.001 0.001 0.001 0.001 0.001 0.001\n",
            " 0.001 0.001 0.001 0.001 0.001 0.001 0.001 0.001 0.001 0.001 0.001 0.001\n",
            " 0.001 0.001 0.001 0.001 0.001 0.001 0.001 0.001 0.001 0.001 0.001 0.001\n",
            " 0.001 0.001 0.001 0.001 0.001 0.001 0.001 0.001 0.001 0.001 0.001 0.001\n",
            " 0.001 0.001 0.001 0.001 0.001 0.001 0.001 0.001 0.001 0.001 0.001 0.001\n",
            " 0.001 0.001 0.001 0.001 0.001 0.001 0.001 0.001 0.001 0.001 0.001 0.001\n",
            " 0.001 0.001 0.001 0.001 0.001 0.001 0.001 0.001 0.001 0.001 0.001 0.001\n",
            " 0.001 0.001 0.001 0.001 0.001 0.001 0.001 0.001 0.001 0.001 0.001 0.001\n",
            " 0.001 0.001 0.001 0.001 0.001 0.001 0.001 0.001 0.001 0.001 0.001 0.001\n",
            " 0.001 0.001 0.001 0.001 0.001 0.001 0.001 0.001 0.001 0.001 0.001 0.001\n",
            " 0.001 0.001 0.001 0.001 0.001 0.001 0.001 0.001 0.001 0.001 0.001 0.001\n",
            " 0.001 0.001 0.001 0.001 0.001 0.001 0.001 0.001 0.001 0.001 0.001 0.001\n",
            " 0.001 0.001 0.001 0.001 0.001 0.001 0.001 0.001 0.001 0.001 0.001 0.001\n",
            " 0.001 0.001 0.001 0.001 0.001 0.001 0.001 0.001 0.001 0.001 0.001 0.001\n",
            " 0.001 0.001 0.001 0.001 0.001 0.001 0.001 0.001 0.001 0.001 0.001 0.001\n",
            " 0.001 0.001 0.001 0.001 0.001 0.001 0.001 0.001 0.001 0.001 0.001 0.001\n",
            " 0.001 0.001 0.001 0.001 0.001 0.001 0.001 0.001 0.001 0.001 0.001 0.001\n",
            " 0.001 0.001 0.001 0.001 0.001 0.001 0.001 0.001 0.001 0.001 0.001 0.001\n",
            " 0.001 0.001 0.001 0.001 0.001 0.001 0.001 0.001 0.001 0.001 0.001 0.001\n",
            " 0.001 0.001 0.001 0.001 0.001 0.001 0.001 0.001 0.001 0.001 0.001 0.001\n",
            " 0.001 0.001 0.001 0.001 0.001 0.001 0.001 0.001 0.001 0.001 0.001 0.001\n",
            " 0.001 0.001 0.001 0.001 0.001 0.001 0.001 0.001 0.001 0.001 0.001 0.001\n",
            " 0.001 0.001 0.001 0.001 0.001 0.001 0.001 0.001 0.001 0.001 0.001 0.001\n",
            " 0.001 0.001 0.001 0.001 0.001 0.001 0.001 0.001 0.001 0.001 0.001 0.001\n",
            " 0.001 0.001 0.001 0.001 0.001 0.001 0.001 0.001 0.001 0.001 0.001 0.001\n",
            " 0.001 0.001 0.001 0.001 0.001 0.001 0.001 0.001 0.001 0.001 0.001 0.001\n",
            " 0.001 0.001 0.001 0.001 0.001 0.001 0.001 0.001 0.001 0.001 0.001 0.001\n",
            " 0.001 0.001 0.001 0.001 0.001 0.001 0.001 0.001 0.001 0.001 0.001 0.001\n",
            " 0.001 0.001 0.001 0.001 0.001 0.001 0.001 0.001 0.001 0.001 0.001 0.001\n",
            " 0.001 0.001 0.001 0.001 0.001 0.001 0.001 0.001 0.001 0.001 0.001 0.001\n",
            " 0.001 0.001 0.001 0.001 0.001 0.001 0.001 0.001 0.001 0.001 0.001 0.001\n",
            " 0.001 0.001 0.001 0.001 0.001 0.001 0.001 0.001 0.001 0.001 0.001 0.001\n",
            " 0.001 0.001 0.001 0.001 0.001 0.001 0.001 0.001 0.001 0.001 0.001 0.001\n",
            " 0.001 0.001 0.001 0.001 0.001 0.001 0.001 0.001 0.001 0.001 0.001 0.001\n",
            " 0.001 0.001 0.001 0.001 0.001 0.001 0.001 0.001 0.001 0.001 0.001 0.001\n",
            " 0.001 0.001 0.001 0.001 0.001 0.001 0.001 0.001 0.001 0.001 0.001 0.001\n",
            " 0.001 0.001 0.001 0.001 0.001 0.001 0.001 0.001 0.001 0.001 0.001 0.001\n",
            " 0.001 0.001 0.001 0.001 0.001 0.001 0.001 0.001 0.001 0.001 0.001 0.001\n",
            " 0.001 0.001 0.001 0.001 0.001 0.001 0.001 0.001 0.001 0.001 0.001 0.001\n",
            " 0.001 0.001 0.001 0.001 0.001 0.001 0.001 0.001 0.001 0.001 0.001 0.001\n",
            " 0.001 0.001 0.001 0.001 0.001 0.001 0.001 0.001 0.001 0.001 0.001 0.001\n",
            " 0.001 0.001 0.001 0.001 0.001 0.001 0.001 0.001 0.001 0.001 0.001 0.001\n",
            " 0.001 0.001 0.001 0.001 0.001 0.001 0.001 0.001 0.001 0.001 0.001 0.001\n",
            " 0.001 0.001 0.001 0.001 0.001 0.001 0.001 0.001 0.001 0.001 0.001 0.001\n",
            " 0.001 0.001 0.001 0.001 0.001 0.001 0.001 0.001 0.001 0.001 0.001 0.001\n",
            " 0.001 0.001 0.001 0.001 0.001 0.001 0.001 0.001 0.001 0.001 0.001 0.001\n",
            " 0.001 0.001 0.001 0.001 0.001 0.001 0.001 0.001 0.001 0.001 0.001 0.001\n",
            " 0.001 0.001 0.001 0.001 0.001 0.001 0.001 0.001 0.001 0.001 0.001 0.001\n",
            " 0.001 0.001 0.001 0.001 0.001 0.001 0.001 0.001 0.001 0.001 0.001 0.001\n",
            " 0.001 0.001 0.001 0.001 0.001 0.001 0.001 0.001 0.001 0.001 0.001 0.001\n",
            " 0.001 0.001 0.001 0.001 0.001 0.001 0.001 0.001 0.001 0.001 0.001 0.001\n",
            " 0.001 0.001 0.001 0.001 0.001 0.001 0.001 0.001 0.001 0.001 0.001 0.001\n",
            " 0.001 0.001 0.001 0.001 0.001 0.001 0.001 0.001 0.001 0.001 0.001 0.001\n",
            " 0.001 0.001 0.001 0.001 0.001 0.001 0.001 0.001 0.001 0.001 0.001 0.001\n",
            " 0.001 0.001 0.001 0.001 0.001 0.001 0.001 0.001 0.001 0.001 0.001 0.001\n",
            " 0.001 0.001 0.001 0.001 0.001 0.001 0.001 0.001 0.001 0.001 0.001 0.001\n",
            " 0.001 0.001 0.001 0.001 0.001 0.001 0.001 0.001 0.001 0.001 0.001 0.001\n",
            " 0.001 0.001 0.001 0.001 0.001 0.001 0.001 0.001 0.001 0.001 0.001 0.001\n",
            " 0.001 0.001 0.001 0.001 1.   ]\n"
          ]
        }
      ]
    },
    {
      "cell_type": "markdown",
      "metadata": {
        "id": "Y7kE77iMuXc4"
      },
      "source": [
        "## hyper-parameters"
      ]
    },
    {
      "cell_type": "code",
      "metadata": {
        "id": "sUxsp6iHuXc5"
      },
      "source": [
        "number_iteration    = 1000\n",
        "learning_rate       = 0.001\n",
        "\n",
        "list_size_minibatch = [50, 100, 200]        #beta\n",
        "list_weight_decay   = [0.001, 0.01, 0.1]    #alpha\n",
        "\n",
        "num_size_minibatch  = len(list_size_minibatch)\n",
        "num_weight_decay    = len(list_weight_decay)"
      ],
      "execution_count": 186,
      "outputs": []
    },
    {
      "cell_type": "markdown",
      "metadata": {
        "id": "UmcuvFNauXc5"
      },
      "source": [
        "## variables for optimization information for different minibatch"
      ]
    },
    {
      "cell_type": "code",
      "metadata": {
        "id": "qMdTDAaDuXc5"
      },
      "source": [
        "train_loss_mean_minibatch     = np.zeros((num_size_minibatch, number_iteration))\n",
        "train_loss_std_minibatch      = np.zeros((num_size_minibatch, number_iteration))\n",
        "\n",
        "train_accuracy_mean_minibatch = np.zeros((num_size_minibatch, number_iteration))\n",
        "train_accuracy_std_minibatch  = np.zeros((num_size_minibatch, number_iteration))\n",
        "\n",
        "test_loss_minibatch           = np.zeros((num_size_minibatch, number_iteration))\n",
        "test_accuracy_minibatch       = np.zeros((num_size_minibatch, number_iteration))"
      ],
      "execution_count": 187,
      "outputs": []
    },
    {
      "cell_type": "markdown",
      "metadata": {
        "id": "_vvpuurouXc5"
      },
      "source": [
        "## variables for optimization information for different weight decay"
      ]
    },
    {
      "cell_type": "code",
      "metadata": {
        "id": "Yj_J2pEkuXc6"
      },
      "source": [
        "train_loss_mean_weight_decay        = np.zeros((num_weight_decay, number_iteration))\n",
        "train_loss_std_weight_decay         = np.zeros((num_weight_decay, number_iteration))\n",
        "\n",
        "train_accuracy_mean_weight_decay    = np.zeros((num_weight_decay, number_iteration))\n",
        "train_accuracy_std_weight_decay     = np.zeros((num_weight_decay, number_iteration))\n",
        "\n",
        "test_loss_weight_decay              = np.zeros((num_weight_decay, number_iteration))\n",
        "test_accuracy_weight_decay          = np.zeros((num_weight_decay, number_iteration))"
      ],
      "execution_count": 188,
      "outputs": []
    },
    {
      "cell_type": "markdown",
      "metadata": {
        "id": "rd_4pXfEuXc6"
      },
      "source": [
        "## stochastic gradient descent iterations with different mini-batch (with alpha = 0)"
      ]
    },
    {
      "cell_type": "code",
      "metadata": {
        "colab": {
          "base_uri": "https://localhost:8080/"
        },
        "id": "Bckbr-FpQN3x",
        "outputId": "60cd9812-89c2-455f-ff43-738c05f10024"
      },
      "source": [
        "############################################################################\n",
        "print(compute_prediction(vector_x_train_bias, weight).shape)"
      ],
      "execution_count": 191,
      "outputs": [
        {
          "output_type": "stream",
          "name": "stdout",
          "text": [
            "(20000, 10)\n"
          ]
        }
      ]
    },
    {
      "cell_type": "code",
      "metadata": {
        "colab": {
          "base_uri": "https://localhost:8080/"
        },
        "id": "SB_faCiUuXc6",
        "outputId": "0ecce9c0-566d-4ae4-9467-62a22730bc6e"
      },
      "source": [
        "# iteration for mini-batch  \n",
        "for k in range(num_size_minibatch):\n",
        "\n",
        "    size_minibatch  = list_size_minibatch[k]\n",
        "    num_minibatch   = int(vector_x_train.shape[0] / size_minibatch)\n",
        "    alpha           = 0\n",
        "\n",
        "    print('mini-batch size = %3d, alpha = %4.3f' % (size_minibatch, alpha))\n",
        "\n",
        "    weight = get_weight(vector_x_train_bias.shape[1], nClass)\n",
        "    # initialze seed for generating random number \n",
        "    np.random.seed(0)\n",
        "    # iteration for epoch\n",
        "    for i in tqdm(range(number_iteration)):\n",
        "\n",
        "        index_shuffle   = np.random.permutation(num_data_train)\n",
        "        loss_epoch      = []\n",
        "        accuracy_epoch  = []\n",
        "\n",
        "        for j in range(num_minibatch):\n",
        "\n",
        "            index_minibatch = index_shuffle[j*size_minibatch : (j+1)*size_minibatch]\n",
        "\n",
        "            data    = vector_x_train_bias[index_minibatch]\n",
        "            label   = y_train[index_minibatch]\n",
        "\n",
        "            prediction  = compute_prediction(data, weight)\n",
        "            gradient    = compute_gradient_cross_entropy(data, prediction, label)\n",
        "            weight      = weight - learning_rate * gradient\n",
        "\n",
        "            prediction  = compute_prediction(data, weight)\n",
        "            loss        = compute_loss(prediction, label, alpha, weight)\n",
        "            accuracy    = compute_accuracy(prediction, label)\n",
        "\n",
        "            loss_epoch.append(loss)\n",
        "            accuracy_epoch.append(accuracy)\n",
        "\n",
        "        train_loss_mean_minibatch[k, i] = np.mean(loss_epoch)\n",
        "        train_loss_std_minibatch[k, i]  = np.std(loss_epoch)\n",
        "\n",
        "        train_accuracy_mean_minibatch[k, i] = np.mean(accuracy)\n",
        "        train_accuracy_std_minibatch[k, i]  = np.std(accuracy)\n",
        "\n",
        "        # testing\n",
        "        data    = vector_x_test_bias\n",
        "        label   = y_test\n",
        "\n",
        "        prediction      = compute_prediction(data, weight)\n",
        "        loss_test       = compute_loss(prediction, label, alpha, weight)\n",
        "        accuracy_test   = compute_accuracy(prediction, label)\n",
        "\n",
        "        test_loss_minibatch[k, i]       = loss_test\n",
        "        test_accuracy_minibatch[k, i]   = accuracy_test"
      ],
      "execution_count": 206,
      "outputs": [
        {
          "output_type": "stream",
          "name": "stdout",
          "text": [
            "mini-batch size =  50, alpha = 0.000\n"
          ]
        },
        {
          "output_type": "stream",
          "name": "stderr",
          "text": [
            "100%|██████████| 1000/1000 [06:23<00:00,  2.61it/s]\n"
          ]
        }
      ]
    },
    {
      "cell_type": "markdown",
      "metadata": {
        "id": "L250C2jbuXc7"
      },
      "source": [
        "## stochastic gradient descent iterations with different regularization parameter (weight decay) (with mini-batch size = 100)"
      ]
    },
    {
      "cell_type": "code",
      "metadata": {
        "id": "BzMeBohPuXc7"
      },
      "source": [
        "# iteration for mini-batch\n",
        "for k in range(num_weight_decay):\n",
        "\n",
        "    size_minibatch  = 100\n",
        "    num_minibatch   = int(vector_x_train.shape[0] / size_minibatch)\n",
        "    alpha           = list_weight_decay[k]\n",
        "    \n",
        "    print('mini-batch size = %3d, alpha = %4.3f' % (size_minibatch, alpha))\n",
        "    \n",
        "    weight = get_weight(vector_x_train_bias.shape[1], nClass)\n",
        "    # initialze seed for generating random number \n",
        "    np.random.seed(0)\n",
        "    # iteration for epoch\n",
        "    for i in tqdm(range(number_iteration)):\n",
        "\n",
        "        index_shuffle   = np.random.permutation(num_data_train)\n",
        "        loss_epoch      = []\n",
        "        accuracy_epoch  = []\n",
        "\n",
        "        for j in range(num_minibatch):\n",
        "\n",
        "            index_minibatch = index_shuffle[j*size_minibatch : (j+1)*size_minibatch]\n",
        "\n",
        "            data    = vector_x_train_bias[index_minibatch]\n",
        "            label   = y_train[index_minibatch]\n",
        "\n",
        "            prediction  = compute_prediction(data, weight)\n",
        "            gradient    = compute_gradient_cross_entropy(data, prediction, label)\n",
        "            weight      = weight - learning_rate * gradient\n",
        "\n",
        "            prediction  = compute_prediction(data, weight)\n",
        "            loss        = compute_loss(prediction, label, alpha, weight)\n",
        "            accuracy    = compute_accuracy(prediction, label)\n",
        "\n",
        "            loss_epoch.append(loss)\n",
        "            accuracy_epoch.append(accuracy)\n",
        "\n",
        "        train_loss_mean_weight_decay[k, i] = np.mean(loss_epoch)\n",
        "        train_loss_std_weight_decay[k, i]  = np.std(loss_epoch)\n",
        "\n",
        "        train_accuracy_mean_weight_decay[k, i] = np.mean(accuracy)\n",
        "        train_accuracy_std_weight_decay[k, i]  = np.std(accuracy)\n",
        "\n",
        "        # testing\n",
        "        data    = vector_x_test_bias\n",
        "        label   = y_test\n",
        "\n",
        "        prediction      = compute_prediction(data, weight)\n",
        "        loss_test       = compute_loss(prediction, label, alpha, weight)\n",
        "        accuracy_test   = compute_accuracy(prediction, label)\n",
        "\n",
        "        test_loss_weight_decay[k, i]       = loss_test\n",
        "        test_accuracy_weight_decay[k, i]   = accuracy_test\n"
      ],
      "execution_count": null,
      "outputs": []
    },
    {
      "cell_type": "markdown",
      "metadata": {
        "id": "WTb5gOYtuXc7"
      },
      "source": [
        "## plot curve"
      ]
    },
    {
      "cell_type": "code",
      "metadata": {
        "id": "5GWe-ZBjuXc8"
      },
      "source": [
        "def plot_curve(data, x_label, y_label, title):\n",
        "    \n",
        "    plt.figure(figsize=(8, 6))\n",
        "    plt.title(title)\n",
        "\n",
        "    plt.plot(range(len(data)), data, '-', color='red')\n",
        "    \n",
        "    plt.xlabel(x_label)\n",
        "    plt.ylabel(y_label)\n",
        "\n",
        "    plt.tight_layout()\n",
        "    plt.show()"
      ],
      "execution_count": 199,
      "outputs": []
    },
    {
      "cell_type": "code",
      "metadata": {
        "id": "Fb-zSe-ouXc8"
      },
      "source": [
        "def plot_curve2(data1, label_data1, data2, label_data2, x_label, y_label, title):\n",
        "    \n",
        "    plt.figure(figsize=(8, 6))\n",
        "    plt.title(title)\n",
        "\n",
        "    plt.plot(range(len(data1)), data1, '-', color = 'blue', label = label_data1)\n",
        "    plt.plot(range(len(data2)), data2, '-', color = 'red', label = label_data2)\n",
        "     \n",
        "    plt.xlabel(x_label)\n",
        "    plt.ylabel(y_label)\n",
        "\n",
        "    plt.legend()\n",
        "    plt.tight_layout()\n",
        "    plt.show()"
      ],
      "execution_count": 118,
      "outputs": []
    },
    {
      "cell_type": "code",
      "metadata": {
        "id": "C8wSY0uRuXc8"
      },
      "source": [
        "def plot_curve3(data1, label_data1, data2, label_data2, data3, label_data3, x_label, y_label, title):\n",
        "    \n",
        "    plt.figure(figsize=(8, 6))\n",
        "    plt.title(title)\n",
        "\n",
        "    plt.plot(range(len(data1)), data1, '-', color = 'blue', label = label_data1)\n",
        "    plt.plot(range(len(data2)), data2, '-', color = 'red', label = label_data2)\n",
        "    plt.plot(range(len(data3)), data3, '-', color = 'green', label = label_data3)\n",
        "     \n",
        "    plt.xlabel(x_label)\n",
        "    plt.ylabel(y_label)\n",
        "\n",
        "    plt.legend()\n",
        "    plt.tight_layout()\n",
        "    plt.show()"
      ],
      "execution_count": 119,
      "outputs": []
    },
    {
      "cell_type": "code",
      "metadata": {
        "id": "Fu3a0Qc4uXc9"
      },
      "source": [
        "def plot_curve_error(data_mean, data_std, x_label, y_label, title):\n",
        "\n",
        "    plt.figure(figsize=(8, 6))\n",
        "    plt.title(title)\n",
        "\n",
        "    alpha = 0.3\n",
        "    \n",
        "    plt.plot(range(len(data_mean)), data_mean, '-', color = 'red')\n",
        "    plt.fill_between(range(len(data_mean)), data_mean - data_std, data_mean + data_std, facecolor = 'blue', alpha = alpha) \n",
        "    \n",
        "    plt.xlabel(x_label)\n",
        "    plt.ylabel(y_label)\n",
        "\n",
        "    plt.tight_layout()\n",
        "    plt.show()"
      ],
      "execution_count": 200,
      "outputs": []
    },
    {
      "cell_type": "code",
      "metadata": {
        "id": "5qSEDW-PuXc9"
      },
      "source": [
        "def plot_curve_error2(data1_mean, data1_std, data1_label, data2_mean, data2_std, data2_label, x_label, y_label, title):\n",
        "    \n",
        "    plt.figure(figsize=(8, 6))\n",
        "    plt.title(title)\n",
        "\n",
        "    alpha = 0.3\n",
        "\n",
        "    plt.plot(range(len(data1_mean)), data1_mean, '-', color = 'blue', label = data1_label)\n",
        "    plt.fill_between(range(len(data1_mean)), data1_mean - data1_std, data1_mean + data1_std, facecolor = 'blue', alpha = alpha)\n",
        "\n",
        "    plt.plot(range(len(data2_mean)), data2_mean, '-', color = 'red', label = data2_label)\n",
        "    plt.fill_between(range(len(data2_mean)), data2_mean - data2_std, data2_mean + data2_std, facecolor = 'red', alpha = alpha)\n",
        "\n",
        "    plt.xlabel(x_label)\n",
        "    plt.ylabel(y_label)\n",
        "\n",
        "    plt.tight_layout()\n",
        "    plt.show()"
      ],
      "execution_count": 121,
      "outputs": []
    },
    {
      "cell_type": "markdown",
      "metadata": {
        "id": "7HUmkwiPuXc-"
      },
      "source": [
        "## loss (training) curve : mini-batch size = 50, weight decay = 0"
      ]
    },
    {
      "cell_type": "code",
      "metadata": {
        "colab": {
          "base_uri": "https://localhost:8080/",
          "height": 441
        },
        "id": "16V1WAsduXc-",
        "outputId": "e66666b7-8bc7-44aa-ad69-36fdde983c21"
      },
      "source": [
        "plot_curve_error(train_loss_mean_minibatch[0], train_loss_std_minibatch[0], 'epoch', 'loss', 'loss (training)')"
      ],
      "execution_count": 207,
      "outputs": [
        {
          "output_type": "display_data",
          "data": {
            "image/png": "[encoded data removed]",
            "text/plain": [
              "<Figure size 576x432 with 1 Axes>"
            ]
          },
          "metadata": {
            "needs_background": "light"
          }
        }
      ]
    },
    {
      "cell_type": "markdown",
      "metadata": {
        "id": "lzxyVrwVuXc-"
      },
      "source": [
        "## loss (training) curve : mini-batch size = 100, weight decay = 0"
      ]
    },
    {
      "cell_type": "code",
      "metadata": {
        "colab": {
          "base_uri": "https://localhost:8080/",
          "height": 441
        },
        "id": "dgA1XGLLuXc_",
        "outputId": "374dbc2f-8b71-430e-92cd-b2b9177905dd"
      },
      "source": [
        "plot_curve_error(train_loss_mean_minibatch[1], train_loss_std_minibatch[1], 'epoch', 'loss', 'loss (training)')"
      ],
      "execution_count": 123,
      "outputs": [
        {
          "output_type": "display_data",
          "data": {
            "image/png": "[encoded data removed]",
            "text/plain": [
              "<Figure size 576x432 with 1 Axes>"
            ]
          },
          "metadata": {
            "needs_background": "light"
          }
        }
      ]
    },
    {
      "cell_type": "markdown",
      "metadata": {
        "id": "tRaBuIVpuXc_"
      },
      "source": [
        "## loss (training) curve : mini-batch size = 200, weight decay = 0"
      ]
    },
    {
      "cell_type": "code",
      "metadata": {
        "colab": {
          "base_uri": "https://localhost:8080/",
          "height": 441
        },
        "id": "r7B2V4B_uXc_",
        "outputId": "35e95743-24f5-4f4d-ae0e-686c95459467"
      },
      "source": [
        "\n",
        "plot_curve_error(train_loss_mean_minibatch[2], train_loss_std_minibatch[2], 'epoch', 'loss', 'loss (training)')"
      ],
      "execution_count": 124,
      "outputs": [
        {
          "output_type": "display_data",
          "data": {
            "image/png": "[encoded data removed]",
            "text/plain": [
              "<Figure size 576x432 with 1 Axes>"
            ]
          },
          "metadata": {
            "needs_background": "light"
          }
        }
      ]
    },
    {
      "cell_type": "markdown",
      "metadata": {
        "id": "tjUls9AzuXc_"
      },
      "source": [
        "## accuracy (training) curve : mini-batch size = 50, weight decay = 0"
      ]
    },
    {
      "cell_type": "code",
      "metadata": {
        "id": "g19LBa3DuXc_"
      },
      "source": [
        "plot_curve_error(train_accuracy_mean_minibatch[0], train_accuracy_std_minibatch[0], 'epoch', 'accuracy', 'accuracy (training)')"
      ],
      "execution_count": null,
      "outputs": []
    },
    {
      "cell_type": "markdown",
      "metadata": {
        "id": "DS5iqGeauXdA"
      },
      "source": [
        "## accuracy (training) curve : mini-batch size = 100, weight decay = 0"
      ]
    },
    {
      "cell_type": "code",
      "metadata": {
        "id": "5yiHIhoxuXdA"
      },
      "source": [
        "plot_curve_error(train_accuracy_mean_minibatch[1], train_accuracy_std_minibatch[1], 'epoch', 'accuracy', 'accuracy (training)')"
      ],
      "execution_count": null,
      "outputs": []
    },
    {
      "cell_type": "markdown",
      "metadata": {
        "id": "HR_nu3uVuXdA"
      },
      "source": [
        "## accuracy (training) curve : mini-batch size = 200, weight decay = 0"
      ]
    },
    {
      "cell_type": "code",
      "metadata": {
        "id": "5_mlnWmzuXdA"
      },
      "source": [
        "plot_curve_error(train_accuracy_mean_minibatch[2], train_accuracy_std_minibatch[2], 'epoch', 'accuracy', 'accuracy (training)')"
      ],
      "execution_count": null,
      "outputs": []
    },
    {
      "cell_type": "markdown",
      "metadata": {
        "id": "Mh1UPGS4uXdA"
      },
      "source": [
        "## loss (testing) curve with different mini-batch"
      ]
    },
    {
      "cell_type": "code",
      "metadata": {
        "id": "C932R8KIuXdB"
      },
      "source": [
        "plot_curve3(test_loss_minibatch[0], 'mini-batch = 50', test_loss_minibatch[1], 'mini-batch = 100', test_loss_minibatch[2], 'mini-batch = 200', 'epoch', 'loss', 'loss (testing)')"
      ],
      "execution_count": null,
      "outputs": []
    },
    {
      "cell_type": "markdown",
      "metadata": {
        "id": "ooVAxZTVuXdB"
      },
      "source": [
        "## accuracy (testing) curve with different mini-batch"
      ]
    },
    {
      "cell_type": "code",
      "metadata": {
        "id": "wt_DFWk2uXdB"
      },
      "source": [
        "plot_curve3(test_accuracy_minibatch[0], 'mini-batch = 50', test_accuracy_minibatch[1], 'mini-batch = 100', test_accuracy_minibatch[2], 'mini-batch = 200', 'epoch', 'accuracy', 'accuracy (testing)')"
      ],
      "execution_count": null,
      "outputs": []
    },
    {
      "cell_type": "markdown",
      "metadata": {
        "id": "s_SH_4QnuXdB"
      },
      "source": [
        "## loss (testing) curve with different weight-decay"
      ]
    },
    {
      "cell_type": "code",
      "metadata": {
        "id": "7SrVFHkwuXdB"
      },
      "source": [
        "plot_curve3(test_loss_weight_decay[0], 'weight-decay = 0.001', test_loss_weight_decay[1], 'weight-decay = 0.01', test_loss_weight_decay[2], 'weight-decay = 0.1', 'epoch', 'loss', 'loss (testing)')"
      ],
      "execution_count": null,
      "outputs": []
    },
    {
      "cell_type": "markdown",
      "metadata": {
        "id": "Ags3Jc1UuXdC"
      },
      "source": [
        "## accuracy (testing) curve with different weight-decay"
      ]
    },
    {
      "cell_type": "code",
      "metadata": {
        "id": "gczRWNCiuXdC"
      },
      "source": [
        "plot_curve3(test_accuracy_weight_decay[0], 'weight-decay = 0.001', test_accuracy_weight_decay[1], 'weight-decay = 0.01', test_accuracy_weight_decay[2], 'weight-decay = 0.1', 'epoch', 'accuracy', 'accuracy (testing)')"
      ],
      "execution_count": null,
      "outputs": []
    },
    {
      "cell_type": "markdown",
      "metadata": {
        "id": "5PxUSOcCuXdC"
      },
      "source": [
        "## print values"
      ]
    },
    {
      "cell_type": "code",
      "metadata": {
        "id": "ya1brxx8uXdC"
      },
      "source": [
        "def print_curve(data, index):\n",
        "\n",
        "    for i in range(len(index)):\n",
        "\n",
        "        idx = index[i]\n",
        "        val = data[idx]\n",
        "\n",
        "        print('index = %4d, value = %12.10f' % (idx, val))"
      ],
      "execution_count": null,
      "outputs": []
    },
    {
      "cell_type": "markdown",
      "metadata": {
        "id": "myPRhPWruXdD"
      },
      "source": [
        "## given iterations at which the values are presented"
      ]
    },
    {
      "cell_type": "code",
      "metadata": {
        "id": "y9K7qP3-uXdD"
      },
      "source": [
        "index = np.array([0, 100, 200, 300, 400, 500, 600, 700, 800, 900])"
      ],
      "execution_count": null,
      "outputs": []
    },
    {
      "cell_type": "markdown",
      "metadata": {
        "id": "oyjAovf8uXdD"
      },
      "source": [
        "## training loss (mean) : mini-batch = 50, weight-decay = 0"
      ]
    },
    {
      "cell_type": "code",
      "metadata": {
        "id": "x9fwEaD5uXdD"
      },
      "source": [
        "print_curve(train_loss_mean_minibatch[0], index)"
      ],
      "execution_count": null,
      "outputs": []
    },
    {
      "cell_type": "markdown",
      "metadata": {
        "id": "Opo8JxiHuXdD"
      },
      "source": [
        "## training loss (mean) : mini-batch = 100, weight-decay = 0"
      ]
    },
    {
      "cell_type": "code",
      "metadata": {
        "id": "cZQ3Kui7uXdE"
      },
      "source": [
        "print_curve(train_loss_mean_minibatch[1], index)"
      ],
      "execution_count": null,
      "outputs": []
    },
    {
      "cell_type": "markdown",
      "metadata": {
        "id": "2STDX0WfuXdE"
      },
      "source": [
        "## training loss (mean) : mini-batch = 200, weight-decay = 0"
      ]
    },
    {
      "cell_type": "code",
      "metadata": {
        "id": "wFcOl4cWuXdE"
      },
      "source": [
        "print_curve(train_loss_mean_minibatch[2], index)"
      ],
      "execution_count": null,
      "outputs": []
    },
    {
      "cell_type": "markdown",
      "metadata": {
        "id": "-pIAE6Y3uXdE"
      },
      "source": [
        "## training accuracy (mean) : mini-batch = 50, weight-decay = 0 "
      ]
    },
    {
      "cell_type": "code",
      "metadata": {
        "id": "_7cFxqJQuXdE"
      },
      "source": [
        "print_curve(train_accuracy_mean_minibatch[0], index)"
      ],
      "execution_count": null,
      "outputs": []
    },
    {
      "cell_type": "markdown",
      "metadata": {
        "id": "gCIQvkcEuXdF"
      },
      "source": [
        "## training accuracy (mean) : mini-batch = 100, weight-decay = 0"
      ]
    },
    {
      "cell_type": "code",
      "metadata": {
        "id": "Ma2hdk-6uXdF"
      },
      "source": [
        "print_curve(train_accuracy_mean_minibatch[1], index)"
      ],
      "execution_count": null,
      "outputs": []
    },
    {
      "cell_type": "markdown",
      "metadata": {
        "id": "M71xxtBmuXdF"
      },
      "source": [
        "## training accuracy (mean) : mini-batch = 200, weight-decay = 0"
      ]
    },
    {
      "cell_type": "code",
      "metadata": {
        "id": "Fw_CWIERuXdF"
      },
      "source": [
        "print_curve(train_accuracy_mean_minibatch[2], index)"
      ],
      "execution_count": null,
      "outputs": []
    },
    {
      "cell_type": "markdown",
      "metadata": {
        "id": "M1yq7AvVuXdF"
      },
      "source": [
        "## training loss (mean) : mini-batch = 100, weight-decay = 0.001"
      ]
    },
    {
      "cell_type": "code",
      "metadata": {
        "id": "w8rYimCyuXdF"
      },
      "source": [
        "print_curve(train_loss_mean_weight_decay[0], index)"
      ],
      "execution_count": null,
      "outputs": []
    },
    {
      "cell_type": "markdown",
      "metadata": {
        "id": "TFnbBmb_uXdG"
      },
      "source": [
        "## training loss (mean) : mini-batch = 100, weight-decay = 0.01"
      ]
    },
    {
      "cell_type": "code",
      "metadata": {
        "id": "flaKQA1zuXdG"
      },
      "source": [
        "print_curve(train_loss_mean_weight_decay[1], index)"
      ],
      "execution_count": null,
      "outputs": []
    },
    {
      "cell_type": "markdown",
      "metadata": {
        "id": "aqf2VQ7DuXdG"
      },
      "source": [
        "## training loss (mean) : mini-batch = 100, weight-decay = 0.1"
      ]
    },
    {
      "cell_type": "code",
      "metadata": {
        "id": "M79l5279uXdG"
      },
      "source": [
        "print_curve(train_loss_mean_weight_decay[2], index)"
      ],
      "execution_count": null,
      "outputs": []
    },
    {
      "cell_type": "markdown",
      "metadata": {
        "id": "sgtiP_KiuXdG"
      },
      "source": [
        "## training accuracy (mean) : mini-batch = 100, weight-decay = 0.001"
      ]
    },
    {
      "cell_type": "code",
      "metadata": {
        "id": "4n3hJuS6uXdH"
      },
      "source": [
        "print_curve(train_accuracy_mean_weight_decay[0], index)"
      ],
      "execution_count": null,
      "outputs": []
    },
    {
      "cell_type": "markdown",
      "metadata": {
        "id": "fcMlHE66uXdH"
      },
      "source": [
        "## training accuracy (mean) : mini-batch = 100, weight-decay = 0.01"
      ]
    },
    {
      "cell_type": "code",
      "metadata": {
        "id": "tyMlrxDduXdH"
      },
      "source": [
        "print_curve(train_accuracy_mean_weight_decay[1], index)"
      ],
      "execution_count": null,
      "outputs": []
    },
    {
      "cell_type": "markdown",
      "metadata": {
        "id": "TzKNFV3wuXdH"
      },
      "source": [
        "## training accuracy (mean) : mini-batch = 100, weight-decay = 0.1"
      ]
    },
    {
      "cell_type": "code",
      "metadata": {
        "id": "Cc6vOvgNuXdJ"
      },
      "source": [
        "print_curve(train_accuracy_mean_weight_decay[2], index)"
      ],
      "execution_count": null,
      "outputs": []
    },
    {
      "cell_type": "markdown",
      "metadata": {
        "id": "p3a9FR1BuXdK"
      },
      "source": [
        "## function definition for presenting the results"
      ]
    },
    {
      "cell_type": "code",
      "metadata": {
        "id": "arJsjh7tuXdK"
      },
      "source": [
        "def function_results_01(*args):\n",
        "    \n",
        "    pass"
      ],
      "execution_count": null,
      "outputs": []
    },
    {
      "cell_type": "code",
      "metadata": {
        "id": "0ySeBqw4uXdK"
      },
      "source": [
        "def function_results_02(*args):\n",
        "    \n",
        "    pass"
      ],
      "execution_count": null,
      "outputs": []
    },
    {
      "cell_type": "code",
      "metadata": {
        "id": "MF3Ec8rQuXdL"
      },
      "source": [
        "def function_results_03(*args):\n",
        "    \n",
        "    pass"
      ],
      "execution_count": null,
      "outputs": []
    },
    {
      "cell_type": "code",
      "metadata": {
        "id": "EJ6jNnBKuXdL"
      },
      "source": [
        "def function_results_04(*args):\n",
        "    \n",
        "    pass"
      ],
      "execution_count": null,
      "outputs": []
    },
    {
      "cell_type": "code",
      "metadata": {
        "id": "N4sFN9JuuXdL"
      },
      "source": [
        "def function_results_05(*args):\n",
        "    \n",
        "    pass"
      ],
      "execution_count": null,
      "outputs": []
    },
    {
      "cell_type": "code",
      "metadata": {
        "id": "X038OrXhuXdL"
      },
      "source": [
        "def function_results_06(*args):\n",
        "    \n",
        "    pass"
      ],
      "execution_count": null,
      "outputs": []
    },
    {
      "cell_type": "code",
      "metadata": {
        "id": "oVsuV9PyuXdM"
      },
      "source": [
        "def function_results_07(*args):\n",
        "    \n",
        "    pass"
      ],
      "execution_count": null,
      "outputs": []
    },
    {
      "cell_type": "code",
      "metadata": {
        "id": "-JtlD6Q1uXdM"
      },
      "source": [
        "def function_results_08(*args):\n",
        "    \n",
        "    pass"
      ],
      "execution_count": null,
      "outputs": []
    },
    {
      "cell_type": "code",
      "metadata": {
        "id": "rzL24TYmuXdM"
      },
      "source": [
        "def function_results_09(*args):\n",
        "    \n",
        "    pass"
      ],
      "execution_count": null,
      "outputs": []
    },
    {
      "cell_type": "code",
      "metadata": {
        "id": "z1hPwCsRuXdM"
      },
      "source": [
        "def function_results_10(*args):\n",
        "    \n",
        "    pass"
      ],
      "execution_count": null,
      "outputs": []
    },
    {
      "cell_type": "code",
      "metadata": {
        "id": "gBOyZi53uXdN"
      },
      "source": [
        "def function_results_11(*args):\n",
        "    \n",
        "    pass"
      ],
      "execution_count": null,
      "outputs": []
    },
    {
      "cell_type": "code",
      "metadata": {
        "id": "I2ORJaLKuXdN"
      },
      "source": [
        "def function_results_12(*args):\n",
        "    \n",
        "    pass"
      ],
      "execution_count": null,
      "outputs": []
    },
    {
      "cell_type": "code",
      "metadata": {
        "id": "ZmAiOnsquXdN"
      },
      "source": [
        "def function_results_13(*args):\n",
        "    \n",
        "    pass"
      ],
      "execution_count": null,
      "outputs": []
    },
    {
      "cell_type": "code",
      "metadata": {
        "id": "VmTW9ajAuXdN"
      },
      "source": [
        "def function_results_14(*args):\n",
        "    \n",
        "    pass"
      ],
      "execution_count": null,
      "outputs": []
    },
    {
      "cell_type": "code",
      "metadata": {
        "id": "45mS8XUguXdO"
      },
      "source": [
        "def function_results_15(*args):\n",
        "    \n",
        "    pass"
      ],
      "execution_count": null,
      "outputs": []
    },
    {
      "cell_type": "code",
      "metadata": {
        "id": "HNhV6Wt_uXdO"
      },
      "source": [
        "def function_results_16(*args):\n",
        "    \n",
        "    pass"
      ],
      "execution_count": null,
      "outputs": []
    },
    {
      "cell_type": "code",
      "metadata": {
        "id": "2eR0qeYjuXdO"
      },
      "source": [
        "def function_results_17(*args):\n",
        "    \n",
        "    pass"
      ],
      "execution_count": null,
      "outputs": []
    },
    {
      "cell_type": "code",
      "metadata": {
        "id": "Ul1n_fHJuXdO"
      },
      "source": [
        "def function_results_18(*args):\n",
        "    \n",
        "    pass"
      ],
      "execution_count": null,
      "outputs": []
    },
    {
      "cell_type": "code",
      "metadata": {
        "id": "UH1uQynduXdP"
      },
      "source": [
        "def function_results_19(*args):\n",
        "    \n",
        "    pass"
      ],
      "execution_count": null,
      "outputs": []
    },
    {
      "cell_type": "code",
      "metadata": {
        "id": "T6RjiOr9uXdP"
      },
      "source": [
        "def function_results_20(*args):\n",
        "    \n",
        "    pass"
      ],
      "execution_count": null,
      "outputs": []
    },
    {
      "cell_type": "code",
      "metadata": {
        "id": "iMdmSe79uXdP"
      },
      "source": [
        "def function_results_21(*args):\n",
        "    \n",
        "    pass"
      ],
      "execution_count": null,
      "outputs": []
    },
    {
      "cell_type": "code",
      "metadata": {
        "id": "WoU8SuEzuXdP"
      },
      "source": [
        "def function_results_22(*args):\n",
        "    \n",
        "    pass"
      ],
      "execution_count": null,
      "outputs": []
    },
    {
      "cell_type": "code",
      "metadata": {
        "id": "3_JF1d9ouXdP"
      },
      "source": [
        "def function_results_23(*args):\n",
        "    \n",
        "    pass"
      ],
      "execution_count": null,
      "outputs": []
    },
    {
      "cell_type": "code",
      "metadata": {
        "id": "wmtCdRkJuXdQ"
      },
      "source": [
        "def function_results_24(*args):\n",
        "    \n",
        "    pass"
      ],
      "execution_count": null,
      "outputs": []
    },
    {
      "cell_type": "markdown",
      "metadata": {
        "id": "vQgxtXlluXdQ"
      },
      "source": [
        "---"
      ]
    },
    {
      "cell_type": "markdown",
      "metadata": {
        "id": "TW3msrNduXdQ"
      },
      "source": [
        "# RESULTS"
      ]
    },
    {
      "cell_type": "markdown",
      "metadata": {
        "id": "XqT-VeINuXdQ"
      },
      "source": [
        "---"
      ]
    },
    {
      "cell_type": "markdown",
      "metadata": {
        "id": "wH6aLBTQuXdR"
      },
      "source": [
        "## # 01. plot the input images for '0'"
      ]
    },
    {
      "cell_type": "code",
      "metadata": {
        "id": "eLgxNj0WuXdR"
      },
      "source": [
        "function_results_01(...)"
      ],
      "execution_count": null,
      "outputs": []
    },
    {
      "cell_type": "markdown",
      "metadata": {
        "id": "y2SNCwKguXdR"
      },
      "source": [
        "## # 02. plot the input images for '1'"
      ]
    },
    {
      "cell_type": "code",
      "metadata": {
        "id": "_tBx3lw6uXdR"
      },
      "source": [
        "function_results_02(...)"
      ],
      "execution_count": null,
      "outputs": []
    },
    {
      "cell_type": "markdown",
      "metadata": {
        "id": "2BbY6dXxuXdR"
      },
      "source": [
        "## # 03. plot the input images for '2'"
      ]
    },
    {
      "cell_type": "code",
      "metadata": {
        "id": "Uo-mV12AuXdS"
      },
      "source": [
        "function_results_03(...)"
      ],
      "execution_count": null,
      "outputs": []
    },
    {
      "cell_type": "markdown",
      "metadata": {
        "id": "Id3XORyCuXdS"
      },
      "source": [
        "## # 04. plot the input images for '3'"
      ]
    },
    {
      "cell_type": "code",
      "metadata": {
        "id": "k0HAVf7YuXdS"
      },
      "source": [
        "function_results_04(...)"
      ],
      "execution_count": null,
      "outputs": []
    },
    {
      "cell_type": "markdown",
      "metadata": {
        "id": "9UDxt3yuuXdS"
      },
      "source": [
        "## # 05. plot the input images for '4'"
      ]
    },
    {
      "cell_type": "code",
      "metadata": {
        "id": "AMrXYsMLuXdS"
      },
      "source": [
        "function_results_05(...)"
      ],
      "execution_count": null,
      "outputs": []
    },
    {
      "cell_type": "markdown",
      "metadata": {
        "id": "X0TYoQ7vuXdT"
      },
      "source": [
        "## # 06. plot the input images for '5'"
      ]
    },
    {
      "cell_type": "code",
      "metadata": {
        "id": "o36UwDn7uXdT"
      },
      "source": [
        "function_results_06(...)"
      ],
      "execution_count": null,
      "outputs": []
    },
    {
      "cell_type": "markdown",
      "metadata": {
        "id": "yVojspQVuXdT"
      },
      "source": [
        "## # 07. plot the input images for '6'"
      ]
    },
    {
      "cell_type": "code",
      "metadata": {
        "id": "h03_xtkXuXdT"
      },
      "source": [
        "function_results_07(...)"
      ],
      "execution_count": null,
      "outputs": []
    },
    {
      "cell_type": "markdown",
      "metadata": {
        "id": "RIHJvJkUuXdT"
      },
      "source": [
        "## # 08. plot the input images for '7'"
      ]
    },
    {
      "cell_type": "code",
      "metadata": {
        "id": "9CSEp_lQuXdT"
      },
      "source": [
        "function_results_08(...)"
      ],
      "execution_count": null,
      "outputs": []
    },
    {
      "cell_type": "markdown",
      "metadata": {
        "id": "ft6EcYipuXdU"
      },
      "source": [
        "## # 09. plot the input images for '8'"
      ]
    },
    {
      "cell_type": "code",
      "metadata": {
        "id": "YYaQpSsbuXdU"
      },
      "source": [
        "function_results_09(...)"
      ],
      "execution_count": null,
      "outputs": []
    },
    {
      "cell_type": "markdown",
      "metadata": {
        "id": "jKMu6vA6uXdU"
      },
      "source": [
        "## # 10. plot the input images for '9'"
      ]
    },
    {
      "cell_type": "code",
      "metadata": {
        "id": "6EYoH0r1uXdU"
      },
      "source": [
        "function_results_10(...)"
      ],
      "execution_count": null,
      "outputs": []
    },
    {
      "cell_type": "markdown",
      "metadata": {
        "id": "dOUgSeIruXdU"
      },
      "source": [
        "## # 11. plot loss (training) curve (mean, std) : mini-batch size = 50, weight decay = 0"
      ]
    },
    {
      "cell_type": "code",
      "metadata": {
        "id": "tLwvWl_kuXdV"
      },
      "source": [
        "function_results_11(...)"
      ],
      "execution_count": null,
      "outputs": []
    },
    {
      "cell_type": "markdown",
      "metadata": {
        "id": "W7whk85ouXdV"
      },
      "source": [
        "## # 12. plot loss (training) curve (mean, std) : mini-batch size = 100, weight decay = 0"
      ]
    },
    {
      "cell_type": "code",
      "metadata": {
        "id": "lVNacfn9uXdV"
      },
      "source": [
        "function_results_12(...)"
      ],
      "execution_count": null,
      "outputs": []
    },
    {
      "cell_type": "markdown",
      "metadata": {
        "id": "mpLTRhAvuXdV"
      },
      "source": [
        "## # 13. plot loss (training) curve (mean, std) : mini-batch size = 200, weight decay = 0"
      ]
    },
    {
      "cell_type": "code",
      "metadata": {
        "id": "kJ_0CvYbuXdV"
      },
      "source": [
        "function_results_13(...)"
      ],
      "execution_count": null,
      "outputs": []
    },
    {
      "cell_type": "markdown",
      "metadata": {
        "id": "iwrbBvc3uXdW"
      },
      "source": [
        "## # 14. plot accuracy (training) curve (mean, std) : mini-batch size = 50, weight decay = 0"
      ]
    },
    {
      "cell_type": "code",
      "metadata": {
        "id": "lVJsGhX2uXdW"
      },
      "source": [
        "function_results_14(...)"
      ],
      "execution_count": null,
      "outputs": []
    },
    {
      "cell_type": "markdown",
      "metadata": {
        "id": "6olMc0QyuXdW"
      },
      "source": [
        "## # 15. plot accuracy (training) curve (mean, std) : mini-batch size = 100, weight decay = 0"
      ]
    },
    {
      "cell_type": "code",
      "metadata": {
        "id": "GMB6fiWxuXdW"
      },
      "source": [
        "function_results_15(...)"
      ],
      "execution_count": null,
      "outputs": []
    },
    {
      "cell_type": "markdown",
      "metadata": {
        "id": "8nTJav1KuXdX"
      },
      "source": [
        "## # 16. plot accuracy (training) curve (mean, std) : mini-batch size = 200, weight decay = 0"
      ]
    },
    {
      "cell_type": "code",
      "metadata": {
        "id": "qrW7SBD1uXdX"
      },
      "source": [
        "function_results_16(...)"
      ],
      "execution_count": null,
      "outputs": []
    },
    {
      "cell_type": "markdown",
      "metadata": {
        "id": "OiUBiO-JuXdX"
      },
      "source": [
        "## # 17. plot loss (testing) curve (mean) with different mini-batch"
      ]
    },
    {
      "cell_type": "code",
      "metadata": {
        "id": "qh0IyHOruXdY"
      },
      "source": [
        "function_results_17(...)"
      ],
      "execution_count": null,
      "outputs": []
    },
    {
      "cell_type": "markdown",
      "metadata": {
        "id": "7VIGo2ZZuXdY"
      },
      "source": [
        "## # 18. plot accuracy (testing) curve (mean) with different mini-batch"
      ]
    },
    {
      "cell_type": "code",
      "metadata": {
        "id": "MzI37-qFuXdY"
      },
      "source": [
        "function_results_18(...)"
      ],
      "execution_count": null,
      "outputs": []
    },
    {
      "cell_type": "markdown",
      "metadata": {
        "id": "emq_49TduXdY"
      },
      "source": [
        "## # 19. plot loss (testing) curve (mean) with different weight-decay"
      ]
    },
    {
      "cell_type": "code",
      "metadata": {
        "id": "9pQhVX55uXdY"
      },
      "source": [
        "function_results_19(...)"
      ],
      "execution_count": null,
      "outputs": []
    },
    {
      "cell_type": "markdown",
      "metadata": {
        "id": "GBIbQ1JNuXdZ"
      },
      "source": [
        "## # 20. plot accuracy (testing) curve (mean) with different weight-decay"
      ]
    },
    {
      "cell_type": "code",
      "metadata": {
        "id": "7cBTo9QCuXda"
      },
      "source": [
        "function_results_20(...)"
      ],
      "execution_count": null,
      "outputs": []
    },
    {
      "cell_type": "markdown",
      "metadata": {
        "id": "dZhGNRaPuXda"
      },
      "source": [
        "## # 21. print training loss (mean) at iterations 0, 100, 200, 300, 400, 500, 600, 700, 800, 900 : mini-batch = 100, weight-decay = 0"
      ]
    },
    {
      "cell_type": "code",
      "metadata": {
        "id": "pZN_t4pkuXda"
      },
      "source": [
        "function_results_21(...)"
      ],
      "execution_count": null,
      "outputs": []
    },
    {
      "cell_type": "markdown",
      "metadata": {
        "id": "xzzvOTZyuXda"
      },
      "source": [
        "## # 22. print training accuracy (mean) at iterations 0, 100, 200, 300, 400, 500, 600, 700, 800, 900 : mini-batch = 100, weight-decay = 0"
      ]
    },
    {
      "cell_type": "code",
      "metadata": {
        "id": "bvlbiyX5uXdb"
      },
      "source": [
        "function_results_22(...)"
      ],
      "execution_count": null,
      "outputs": []
    },
    {
      "cell_type": "markdown",
      "metadata": {
        "id": "56PQ6pSTuXdb"
      },
      "source": [
        "## # 23. print training loss (mean) at iterations 0, 100, 200, 300, 400, 500, 600, 700, 800, 900 : mini-batch = 100, weight-decay = 0.001"
      ]
    },
    {
      "cell_type": "code",
      "metadata": {
        "id": "0ab1uxQ8uXdb"
      },
      "source": [
        "function_results_23(...)"
      ],
      "execution_count": null,
      "outputs": []
    },
    {
      "cell_type": "markdown",
      "metadata": {
        "id": "6iTTnzxQuXdb"
      },
      "source": [
        "## # 24. print training accuracy (mean) at iterations 0, 100, 200, 300, 400, 500, 600, 700, 800, 900 : mini-batch = 100, weight-decay = 0.001"
      ]
    },
    {
      "cell_type": "code",
      "metadata": {
        "id": "bL6YFaQMuXdc"
      },
      "source": [
        "function_results_24(...)"
      ],
      "execution_count": null,
      "outputs": []
    }
  ]
}