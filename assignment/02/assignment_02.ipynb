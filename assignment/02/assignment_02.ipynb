{
  "nbformat": 4,
  "nbformat_minor": 0,
  "metadata": {
    "colab": {
      "name": "assignment_02.ipynb",
      "provenance": [],
      "collapsed_sections": []
    },
    "kernelspec": {
      "name": "python3",
      "display_name": "Python 3.8.8 64-bit ('base': conda)"
    },
    "language_info": {
      "name": "python",
      "version": "3.8.8",
      "mimetype": "text/x-python",
      "codemirror_mode": {
        "name": "ipython",
        "version": 3
      },
      "pygments_lexer": "ipython3",
      "nbconvert_exporter": "python",
      "file_extension": ".py"
    },
    "interpreter": {
      "hash": "dca0ade3e726a953b501b15e8e990130d2b7799f14cfd9f4271676035ebe5511"
    }
  },
  "cells": [
    {
      "cell_type": "markdown",
      "metadata": {
        "id": "K29I-OwCEYzW",
        "outputId": "db8b297c-a4b8-457a-b43f-7570135306c7"
      },
      "source": [
        "# Logistic regression for binary classification"
      ]
    },
    {
      "cell_type": "markdown",
      "metadata": {
        "id": "mEv1LIUNmWQN"
      },
      "source": [
        "## import libraries"
      ]
    },
    {
      "cell_type": "code",
      "metadata": {
        "id": "XisIPtH1mWQN"
      },
      "source": [
        "import numpy as np\n",
        "import matplotlib.image as img\n",
        "import matplotlib.pyplot as plt\n",
        "import matplotlib.colors as colors\n",
        "import os"
      ],
      "execution_count": 192,
      "outputs": []
    },
    {
      "cell_type": "markdown",
      "metadata": {
        "id": "f4mEQE3YmWQP"
      },
      "source": [
        "## load data"
      ]
    },
    {
      "cell_type": "code",
      "metadata": {
        "colab": {
          "base_uri": "https://localhost:8080/"
        },
        "id": "gYrkmNPtmWQQ",
        "outputId": "c1400bb7-c4cd-4fb8-8930-132f94d9a8d4"
      },
      "source": [
        "directory_data  = './data/'\n",
        "filename_data   = 'assignment_02_data.npz'\n",
        "data            = np.load(os.path.join(directory_data, filename_data))\n",
        "\n",
        "x = data['x']\n",
        "y = data['y']\n",
        "\n",
        "print('size of x (image) :', x.shape)\n",
        "print('size of y (label) :', y.shape)\n",
        "\n",
        "print('number of image :', x.shape[0])\n",
        "print('height of image :', x.shape[1])\n",
        "print('width of image :', x.shape[2])\n",
        "im_0    = x[0,:,:]\n",
        "im_1    = x[1,:,:]\n",
        "label_0 = y[0]\n",
        "label_1 = y[1]\n",
        "\n"
      ],
      "execution_count": 193,
      "outputs": [
        {
          "output_type": "stream",
          "name": "stdout",
          "text": [
            "size of x (image) : (2, 28, 28)\n",
            "size of y (label) : (2,)\n",
            "number of image : 2\n",
            "height of image : 28\n",
            "width of image : 28\n"
          ]
        }
      ]
    },
    {
      "cell_type": "markdown",
      "metadata": {
        "id": "VK04ugBBmWQS"
      },
      "source": [
        "## plot data"
      ]
    },
    {
      "cell_type": "code",
      "metadata": {
        "id": "Nf0f_dEhmWQS"
      },
      "source": [
        "def plot_data2(title1, data1, title2, data2):\n",
        "\n",
        "    fig = plt.figure(figsize=(8,4))\n",
        "\n",
        "    rows = 1\n",
        "    cols = 2\n",
        "\n",
        "    ax1 = fig.add_subplot(rows, cols, 1)\n",
        "    ax1.set_title(title1)\n",
        "    ax1.imshow(data1, cmap='gray', vmin=0, vmax=1)\n",
        "\n",
        "    ax2 = fig.add_subplot(rows, cols, 2)\n",
        "    ax2.set_title(title2)\n",
        "    ax2.imshow(data2, cmap='gray', vmin=0, vmax=1)\n",
        "\n",
        "    plt.tight_layout()\n",
        "    plt.show()"
      ],
      "execution_count": 194,
      "outputs": []
    },
    {
      "cell_type": "code",
      "metadata": {
        "colab": {
          "base_uri": "https://localhost:8080/",
          "height": 312
        },
        "id": "WxVboraFmWQV",
        "outputId": "c0552e49-fe01-4380-af02-1b8862e43496"
      },
      "source": [
        "plot_data2('label: 0', im_0, 'label: 1', im_1)"
      ],
      "execution_count": 195,
      "outputs": [
        {
          "output_type": "display_data",
          "data": {
            "image/png": "[encoded data removed]",
            "text/plain": [
              "<Figure size 576x288 with 2 Axes>"
            ]
          },
          "metadata": {
            "needs_background": "light"
          }
        }
      ]
    },
    {
      "cell_type": "markdown",
      "metadata": {
        "id": "PXYTyyjvmWQW"
      },
      "source": [
        "## convert gray scale image to color"
      ]
    },
    {
      "cell_type": "code",
      "metadata": {
        "colab": {
          "base_uri": "https://localhost:8080/"
        },
        "id": "kKmNLubumWQW",
        "outputId": "d39fbd63-d66a-47ef-acf4-3e6a9761001d"
      },
      "source": [
        "im_0_red    = np.zeros((im_0.shape[0], im_0.shape[1], 3))\n",
        "im_0_green  = np.zeros((im_0.shape[0], im_0.shape[1], 3))\n",
        "im_0_blue   = np.zeros((im_0.shape[0], im_0.shape[1], 3))\n",
        "\n",
        "im_1_red    = np.zeros((im_1.shape[0], im_1.shape[1], 3))\n",
        "im_1_green  = np.zeros((im_1.shape[0], im_1.shape[1], 3))\n",
        "im_1_blue   = np.zeros((im_1.shape[0], im_1.shape[1], 3))\n",
        "\n",
        "im_0_red[:,:,0]     = im_0\n",
        "im_0_green[:,:,1]   = im_0\n",
        "im_0_blue[:,:,2]    = im_0\n",
        "\n",
        "im_1_red[:,:,0]     = im_1\n",
        "im_1_green[:,:,1]   = im_1\n",
        "im_1_blue[:,:,2]    = im_1\n",
        "\n",
        "print(im_0_red.shape)\n",
        "print(im_0_green.shape)\n",
        "print(im_0_blue.shape)\n",
        "\n",
        "print(im_1_red.shape)\n",
        "print(im_1_green.shape)\n",
        "print(im_1_blue.shape)\n"
      ],
      "execution_count": 196,
      "outputs": [
        {
          "output_type": "stream",
          "name": "stdout",
          "text": [
            "(28, 28, 3)\n",
            "(28, 28, 3)\n",
            "(28, 28, 3)\n",
            "(28, 28, 3)\n",
            "(28, 28, 3)\n",
            "(28, 28, 3)\n"
          ]
        }
      ]
    },
    {
      "cell_type": "markdown",
      "metadata": {
        "id": "vnhaHlDcmWQX"
      },
      "source": [
        "## plot color data"
      ]
    },
    {
      "cell_type": "code",
      "metadata": {
        "id": "6hjvOBi1mWQX"
      },
      "source": [
        "def plot_data_color3(title1, data1, title2, data2, title3, data3):\n",
        "\n",
        "    fig, axes = plt.subplots(1, 3, constrained_layout=True, figsize=(12, 4))\n",
        "\n",
        "    axes[0].imshow(data1, vmin=0, vmax=1)\n",
        "    axes[0].set(title=title1)\n",
        "    \n",
        "    axes[1].imshow(data2, vmin=0, vmax=1)\n",
        "    axes[1].set(title=title2)\n",
        "    \n",
        "    axes[2].imshow(data3, vmin=0, vmax=1)\n",
        "    axes[2].set(title=title3)\n",
        "\n",
        "    plt.show()\n"
      ],
      "execution_count": 197,
      "outputs": []
    },
    {
      "cell_type": "code",
      "metadata": {
        "colab": {
          "base_uri": "https://localhost:8080/",
          "height": 322
        },
        "id": "QQXjGLtGmWQY",
        "outputId": "808a1344-684f-4e87-ae03-e932591e7a8d"
      },
      "source": [
        "plot_data_color3('im 0: red', im_0_red, 'im 0: green', im_0_green, 'im 0: blue', im_0_blue)"
      ],
      "execution_count": 198,
      "outputs": [
        {
          "output_type": "display_data",
          "data": {
            "image/png": "[encoded data removed]",
            "text/plain": [
              "<Figure size 864x288 with 3 Axes>"
            ]
          },
          "metadata": {
            "needs_background": "light"
          }
        }
      ]
    },
    {
      "cell_type": "code",
      "metadata": {
        "colab": {
          "base_uri": "https://localhost:8080/",
          "height": 322
        },
        "id": "8lwExqKVmWQY",
        "outputId": "11b47360-a2a3-486a-c030-da3e74132aa4"
      },
      "source": [
        "plot_data_color3('im 1: red', im_1_red, 'im 1: green', im_1_green, 'im 1: blue', im_1_blue)"
      ],
      "execution_count": 199,
      "outputs": [
        {
          "output_type": "display_data",
          "data": {
            "image/png": "[encoded data removed]",
            "text/plain": [
              "<Figure size 864x288 with 3 Axes>"
            ]
          },
          "metadata": {
            "needs_background": "light"
          }
        }
      ]
    },
    {
      "cell_type": "markdown",
      "metadata": {
        "id": "AezLrQT1mWQZ"
      },
      "source": [
        "## linear layer"
      ]
    },
    {
      "cell_type": "code",
      "metadata": {
        "id": "lVp1kcmjmWQZ"
      },
      "source": [
        "def layer_linear(input, weight):\n",
        "    \n",
        "    # fill in the function body\n",
        "    output = np.dot(input, weight)\n",
        "    # -------------------------\n",
        "\n",
        "    return output"
      ],
      "execution_count": 214,
      "outputs": []
    },
    {
      "cell_type": "markdown",
      "metadata": {
        "id": "3lVSyZrrmWQZ"
      },
      "source": [
        "## [git commit # 01] % git commit -a -m \"complete the function for linear layer\""
      ]
    },
    {
      "cell_type": "markdown",
      "metadata": {
        "id": "Pd0Eb6l3mWQa"
      },
      "source": [
        "## activation function : Sigmoid"
      ]
    },
    {
      "cell_type": "code",
      "metadata": {
        "id": "jcJLGasamWQa"
      },
      "source": [
        "def activation_sigmoid(input):\n",
        "    \n",
        "    # fill in the function body\n",
        "    output = 1 / (1 + np.exp(-input))\n",
        "    # -------------------------\n",
        "\n",
        "    return output"
      ],
      "execution_count": 220,
      "outputs": []
    },
    {
      "cell_type": "markdown",
      "metadata": {
        "id": "RQRqVl2smWQa"
      },
      "source": [
        "## [git commit # 02] % git commit -a -m \"complete the function for the sigmoid activation\""
      ]
    },
    {
      "cell_type": "markdown",
      "metadata": {
        "id": "zUeFNOP_mWQa"
      },
      "source": [
        "## forward propagation "
      ]
    },
    {
      "cell_type": "code",
      "metadata": {
        "id": "MYwJBsDpmWQb"
      },
      "source": [
        "def propagation_forward(input, weight):\n",
        "    \n",
        "    # fill in the function body\n",
        "    output      = activation_sigmoid(layer_linear(input, weight))\n",
        "    prediction  = np.where(output < 0.5, 0, 1)\n",
        "    # -------------------------\n",
        "\n",
        "    return prediction"
      ],
      "execution_count": 221,
      "outputs": []
    },
    {
      "cell_type": "markdown",
      "metadata": {
        "id": "FJ6oGelZmWQb"
      },
      "source": [
        "## [git commit # 03] % git commit -a -m \"complete the function for the forward propagation\""
      ]
    },
    {
      "cell_type": "markdown",
      "metadata": {
        "id": "-tspK9C_mWQb"
      },
      "source": [
        "## compute loss function"
      ]
    },
    {
      "cell_type": "code",
      "metadata": {
        "id": "7bhEhxa77yFd"
      },
      "source": [
        "def compute_loss(input, weight, label):\n",
        "\n",
        "    # fill in the function body\n",
        "    prediction      = activation_sigmoid(layer_linear(input, weight))\n",
        "    loss            = -(label * np.log(prediction) + (1-label) * np.log(1-prediction))\n",
        "    loss_average    = np.sum(loss) / loss.size\n",
        "    # -------------------------\n",
        "\n",
        "    return loss_average"
      ],
      "execution_count": 219,
      "outputs": []
    },
    {
      "cell_type": "markdown",
      "metadata": {
        "id": "QtKtN15wmWQb"
      },
      "source": [
        "## [git commit # 04] % git commit -a -m \"complete the function for the loss\""
      ]
    },
    {
      "cell_type": "markdown",
      "metadata": {
        "id": "3fyCEUvgmWQc"
      },
      "source": [
        "## compute gradient"
      ]
    },
    {
      "cell_type": "code",
      "metadata": {
        "id": "0T3SdxoWmWQc"
      },
      "source": [
        "def compute_gradient(input, weight, label):\n",
        "\n",
        "    # fill in the function body\n",
        "    prediction  = activation_sigmoid(layer_linear(input, weight))\n",
        "    residual    = prediction - label\n",
        "    gradient    = np.multiply(residual.reshape(len(input),1), input)\n",
        "    # -------------------------\n",
        "\n",
        "    return gradient"
      ],
      "execution_count": 247,
      "outputs": []
    },
    {
      "cell_type": "markdown",
      "metadata": {
        "id": "9a1gmVLImWQc"
      },
      "source": [
        "## [git commit # 05] % git commit -a -m \"complete the function for the computation of gradient\""
      ]
    },
    {
      "cell_type": "markdown",
      "metadata": {
        "id": "zrOPFWiJmWQc"
      },
      "source": [
        "## initialize weight"
      ]
    },
    {
      "cell_type": "code",
      "metadata": {
        "colab": {
          "base_uri": "https://localhost:8080/"
        },
        "id": "3LKUbew0xj__",
        "outputId": "af23a123-eb2c-4a48-cc0f-9752d80bf4c5"
      },
      "source": [
        "weight  = np.ones(np.prod(im_0.shape))\n",
        "weight  = weight * 0.001\n",
        "\n",
        "vector_0    = np.matrix.flatten(im_0)\n",
        "vector_1    = np.matrix.flatten(im_1)\n",
        "input   = [vector_0, vector_1]\n",
        "label   = y"
      ],
      "execution_count": 241,
      "outputs": [
        {
          "output_type": "stream",
          "name": "stdout",
          "text": [
            "(784,)\n"
          ]
        },
        {
          "output_type": "execute_result",
          "data": {
            "text/plain": [
              "array([[ 0.,  0.,  0., ...,  0.,  0.,  0.],\n",
              "       [-0., -0., -0., ..., -0., -0., -0.]])"
            ]
          },
          "metadata": {},
          "execution_count": 241
        }
      ]
    },
    {
      "cell_type": "code",
      "metadata": {
        "id": "_FGU3kOdmWQc"
      },
      "source": [
        "number_iteration    = 1000\n",
        "learning_rate       = 0.01"
      ],
      "execution_count": 206,
      "outputs": []
    },
    {
      "cell_type": "markdown",
      "metadata": {
        "id": "-c8X0Tt2mWQd"
      },
      "source": [
        "## gradient descent"
      ]
    },
    {
      "cell_type": "code",
      "metadata": {
        "id": "74Dyqq2amWQd"
      },
      "source": [
        "loss_iteration      = np.zeros(number_iteration)\n",
        "pred_0_iteration    = np.zeros(number_iteration) \n",
        "pred_1_iteration    = np.zeros(number_iteration) \n",
        "\n",
        "for i in range(number_iteration):\n",
        "\n",
        "    # fill in the function body\n",
        "    sum_of_gradient = np.sum(compute_gradient(input, weight, label), axis=0)\n",
        "    weight  = weight - learning_rate * sum_of_gradient / len(input)\n",
        "    loss    = compute_loss(input, weight, label)\n",
        "    pred    = propagation_forward(input,weight)\n",
        "    # -------------------------\n",
        "\n",
        "    loss_iteration[i]   = loss\n",
        "    pred_0_iteration[i] = pred[0]\n",
        "    pred_1_iteration[i] = pred[1]\n",
        "    \n",
        "    # print('iteration = %4d, loss = %5.5f' % (i, loss))"
      ],
      "execution_count": 254,
      "outputs": []
    },
    {
      "cell_type": "markdown",
      "metadata": {
        "id": "2SOewUgJmWQd"
      },
      "source": [
        "## [git commit # 06] % git commit -a -m \"complete the function for the gradient descent\""
      ]
    },
    {
      "cell_type": "markdown",
      "metadata": {
        "id": "dIOM9U2xmWQd"
      },
      "source": [
        "## plot learning curve"
      ]
    },
    {
      "cell_type": "code",
      "metadata": {
        "id": "T3Fwfc2LmWQd"
      },
      "source": [
        "def plot_curve(title, data):\n",
        "\n",
        "    plt.figure(figsize=(8, 6))\n",
        "    plt.title(title)\n",
        "\n",
        "    plt.plot(data, '-', color='red')\n",
        "    plt.xlabel('iteration')\n",
        "    plt.ylabel('loss')\n",
        "\n",
        "    plt.tight_layout()\n",
        "    plt.show()"
      ],
      "execution_count": null,
      "outputs": []
    },
    {
      "cell_type": "code",
      "metadata": {
        "id": "QWTQFzb1mWQd"
      },
      "source": [
        "plot_curve('loss', loss_iteration)"
      ],
      "execution_count": null,
      "outputs": []
    },
    {
      "cell_type": "markdown",
      "metadata": {
        "id": "hzoebLhMmWQe"
      },
      "source": [
        "## plot prediction values"
      ]
    },
    {
      "cell_type": "code",
      "metadata": {
        "id": "WzieX7sVmWQe"
      },
      "source": [
        "def plot_curve2(title, data1, label1, data2, label2):\n",
        "\n",
        "\n",
        "    fig = plt.figure(figsize=(8,6))\n",
        "    plt.title(title)\n",
        "\n",
        "    plt.plot(data1, '-', color='blue', label=label1)\n",
        "    plt.plot(data2, '-', color='red', label=label2)\n",
        "    plt.legend()\n",
        "    plt.tight_layout()\n",
        "\n",
        "    plt.show()"
      ],
      "execution_count": null,
      "outputs": []
    },
    {
      "cell_type": "code",
      "metadata": {
        "id": "J2Uf54OTmWQe"
      },
      "source": [
        "plot_curve2('prediction', pred_0_iteration, 'im 0', pred_1_iteration, 'im 1')"
      ],
      "execution_count": null,
      "outputs": []
    },
    {
      "cell_type": "markdown",
      "metadata": {
        "id": "V0X0ZkUDmWQe"
      },
      "source": [
        "## given iterations at which the values are presented"
      ]
    },
    {
      "cell_type": "code",
      "metadata": {
        "id": "wHJUu403mWQe"
      },
      "source": [
        "iter0   = 0\n",
        "iter1   = 100\n",
        "iter2   = 200\n",
        "iter3   = 300\n",
        "iter4   = 400\n",
        "iter5   = 500\n",
        "iter6   = 600\n",
        "iter7   = 700\n",
        "iter8   = 800\n",
        "iter9   = 900\n"
      ],
      "execution_count": null,
      "outputs": []
    },
    {
      "cell_type": "markdown",
      "metadata": {
        "id": "ZRHqOfZSmWQe"
      },
      "source": [
        "## loss values"
      ]
    },
    {
      "cell_type": "code",
      "metadata": {
        "id": "_-jb3mFPmWQe"
      },
      "source": [
        "print('iteration = %4d, loss = %12.10f' % (iter0, loss_iteration[iter0]))\n",
        "print('iteration = %4d, loss = %12.10f' % (iter1, loss_iteration[iter1]))\n",
        "print('iteration = %4d, loss = %12.10f' % (iter2, loss_iteration[iter2]))\n",
        "print('iteration = %4d, loss = %12.10f' % (iter3, loss_iteration[iter3]))\n",
        "print('iteration = %4d, loss = %12.10f' % (iter4, loss_iteration[iter4]))\n",
        "print('iteration = %4d, loss = %12.10f' % (iter5, loss_iteration[iter5]))\n",
        "print('iteration = %4d, loss = %12.10f' % (iter6, loss_iteration[iter6]))\n",
        "print('iteration = %4d, loss = %12.10f' % (iter7, loss_iteration[iter7]))\n",
        "print('iteration = %4d, loss = %12.10f' % (iter8, loss_iteration[iter8]))\n",
        "print('iteration = %4d, loss = %12.10f' % (iter9, loss_iteration[iter9]))"
      ],
      "execution_count": null,
      "outputs": []
    },
    {
      "cell_type": "markdown",
      "metadata": {
        "id": "Mdglgn89mWQf"
      },
      "source": [
        "## prediction values for im_0"
      ]
    },
    {
      "cell_type": "code",
      "metadata": {
        "id": "c3wY-9xomWQf"
      },
      "source": [
        "print('iteration = %4d, pred im0 = %12.10f' % (iter0, pred_0_iteration[iter0]))\n",
        "print('iteration = %4d, pred im0 = %12.10f' % (iter1, pred_0_iteration[iter1]))\n",
        "print('iteration = %4d, pred im0 = %12.10f' % (iter2, pred_0_iteration[iter2]))\n",
        "print('iteration = %4d, pred im0 = %12.10f' % (iter3, pred_0_iteration[iter3]))\n",
        "print('iteration = %4d, pred im0 = %12.10f' % (iter4, pred_0_iteration[iter4]))\n",
        "print('iteration = %4d, pred im0 = %12.10f' % (iter5, pred_0_iteration[iter5]))\n",
        "print('iteration = %4d, pred im0 = %12.10f' % (iter6, pred_0_iteration[iter6]))\n",
        "print('iteration = %4d, pred im0 = %12.10f' % (iter7, pred_0_iteration[iter7]))\n",
        "print('iteration = %4d, pred im0 = %12.10f' % (iter8, pred_0_iteration[iter8]))\n",
        "print('iteration = %4d, pred im0 = %12.10f' % (iter9, pred_0_iteration[iter9]))"
      ],
      "execution_count": null,
      "outputs": []
    },
    {
      "cell_type": "markdown",
      "metadata": {
        "id": "LMBeJJw5mWQf"
      },
      "source": [
        "## prediction values for im_1"
      ]
    },
    {
      "cell_type": "code",
      "metadata": {
        "id": "qlBuoikamWQf"
      },
      "source": [
        "print('iteration = %4d, pred im1 = %12.10f' % (iter0, pred_1_iteration[iter0]))\n",
        "print('iteration = %4d, pred im1 = %12.10f' % (iter1, pred_1_iteration[iter1]))\n",
        "print('iteration = %4d, pred im1 = %12.10f' % (iter2, pred_1_iteration[iter2]))\n",
        "print('iteration = %4d, pred im1 = %12.10f' % (iter3, pred_1_iteration[iter3]))\n",
        "print('iteration = %4d, pred im1 = %12.10f' % (iter4, pred_1_iteration[iter4]))\n",
        "print('iteration = %4d, pred im1 = %12.10f' % (iter5, pred_1_iteration[iter5]))\n",
        "print('iteration = %4d, pred im1 = %12.10f' % (iter6, pred_1_iteration[iter6]))\n",
        "print('iteration = %4d, pred im1 = %12.10f' % (iter7, pred_1_iteration[iter7]))\n",
        "print('iteration = %4d, pred im1 = %12.10f' % (iter8, pred_1_iteration[iter8]))\n",
        "print('iteration = %4d, pred im1 = %12.10f' % (iter9, pred_1_iteration[iter9]))"
      ],
      "execution_count": null,
      "outputs": []
    },
    {
      "cell_type": "code",
      "metadata": {
        "id": "FcelAryomWQg"
      },
      "source": [
        "def function_result_01(*args):\n",
        "\n",
        "    pass"
      ],
      "execution_count": null,
      "outputs": []
    },
    {
      "cell_type": "markdown",
      "metadata": {
        "id": "sfdI6y1tmWQg"
      },
      "source": [
        "## [git commit # 07] % git commit -a -m \"complete the function for the function result 01\""
      ]
    },
    {
      "cell_type": "code",
      "metadata": {
        "id": "Wgv4g_fbmWQg"
      },
      "source": [
        "def function_result_02(*args):\n",
        "\n",
        "    pass"
      ],
      "execution_count": null,
      "outputs": []
    },
    {
      "cell_type": "markdown",
      "metadata": {
        "id": "KjJjnpc7mWQg"
      },
      "source": [
        "## [git commit # 08] % git commit -a -m \"complete the function for the function result 02\""
      ]
    },
    {
      "cell_type": "code",
      "metadata": {
        "id": "HMePB4h9mWQg"
      },
      "source": [
        "def function_result_03(*args):\n",
        "    \n",
        "    pass"
      ],
      "execution_count": null,
      "outputs": []
    },
    {
      "cell_type": "markdown",
      "metadata": {
        "id": "YfL2eBnzmWQg"
      },
      "source": [
        "## [git commit # 09] % git commit -a -m \"complete the function for the function result 03\""
      ]
    },
    {
      "cell_type": "code",
      "metadata": {
        "id": "204ErfOimWQg"
      },
      "source": [
        "def function_result_04(*args):\n",
        "\n",
        "    pass"
      ],
      "execution_count": null,
      "outputs": []
    },
    {
      "cell_type": "markdown",
      "metadata": {
        "id": "BiWiHg83mWQg"
      },
      "source": [
        "## [git commit # 10] % git commit -a -m \"complete the function for the function result 04\""
      ]
    },
    {
      "cell_type": "code",
      "metadata": {
        "id": "Br1DepzImWQg"
      },
      "source": [
        "def function_result_05(*args):\n",
        "\n",
        "    pass"
      ],
      "execution_count": null,
      "outputs": []
    },
    {
      "cell_type": "markdown",
      "metadata": {
        "id": "urnB5iH9mWQh"
      },
      "source": [
        "## [git commit # 11] % git commit -a -m \"complete the function for the function result 05\""
      ]
    },
    {
      "cell_type": "code",
      "metadata": {
        "id": "iodQiep4mWQh"
      },
      "source": [
        "def function_result_06(*args):\n",
        "\n",
        "    pass"
      ],
      "execution_count": null,
      "outputs": []
    },
    {
      "cell_type": "markdown",
      "metadata": {
        "id": "z_-LBRCdmWQh"
      },
      "source": [
        "## [git commit # 12] % git commit -a -m \"complete the function for the function result 06\""
      ]
    },
    {
      "cell_type": "code",
      "metadata": {
        "id": "yWxWu9bwmWQh"
      },
      "source": [
        "def function_result_07(*args):\n",
        "\n",
        "    pass"
      ],
      "execution_count": null,
      "outputs": []
    },
    {
      "cell_type": "markdown",
      "metadata": {
        "id": "cp5rbu0xmWQh"
      },
      "source": [
        "## [git commit # 13] % git commit -a -m \"complete the function for the function result 07\""
      ]
    },
    {
      "cell_type": "markdown",
      "metadata": {
        "id": "20T7iEeWmWQh"
      },
      "source": [
        "---"
      ]
    },
    {
      "cell_type": "markdown",
      "metadata": {
        "id": "vwNrPIFWmWQh"
      },
      "source": [
        "# RESULTS"
      ]
    },
    {
      "cell_type": "markdown",
      "metadata": {
        "id": "2ed3A10bmWQh"
      },
      "source": [
        "---"
      ]
    },
    {
      "cell_type": "markdown",
      "metadata": {
        "id": "Bvjv4VDImWQh"
      },
      "source": [
        "## # 01. plot the input images (left: image 0, right: image 1)"
      ]
    },
    {
      "cell_type": "code",
      "metadata": {
        "id": "P0r7l3vDmWQi"
      },
      "source": [
        "function_result_01(...)"
      ],
      "execution_count": null,
      "outputs": []
    },
    {
      "cell_type": "markdown",
      "metadata": {
        "id": "95bRMLIJmWQi"
      },
      "source": [
        "## # 02. plot the loss curve (x-axis: iteration, y-axis: loss)"
      ]
    },
    {
      "cell_type": "code",
      "metadata": {
        "id": "iHhBuqPqmWQi"
      },
      "source": [
        "function_result_02(...)"
      ],
      "execution_count": null,
      "outputs": []
    },
    {
      "cell_type": "markdown",
      "metadata": {
        "id": "9GjfZ5mUmWQi"
      },
      "source": [
        "## # 03. plot the prediction value for image 0 (x-axis: iteration, y-axis: prediction)"
      ]
    },
    {
      "cell_type": "code",
      "metadata": {
        "id": "WxXN1dpcmWQi"
      },
      "source": [
        "function_result_03(...)"
      ],
      "execution_count": null,
      "outputs": []
    },
    {
      "cell_type": "markdown",
      "metadata": {
        "id": "vuXu2Jx_mWQi"
      },
      "source": [
        "## # 04. plot the prediction value for image 1 (x-axis: iteration, y-axis: prediction)"
      ]
    },
    {
      "cell_type": "code",
      "metadata": {
        "id": "WgUHAcH7mWQi"
      },
      "source": [
        "function_result_04(...)"
      ],
      "execution_count": null,
      "outputs": []
    },
    {
      "cell_type": "markdown",
      "metadata": {
        "id": "OeqwWrtJmWQi"
      },
      "source": [
        "## # 05. print the loss values at iterations 0, 100, 200, 300, 400, 500, 600, 700, 800, 900"
      ]
    },
    {
      "cell_type": "code",
      "metadata": {
        "id": "lL2riQ05mWQi"
      },
      "source": [
        "function_result_05(...)"
      ],
      "execution_count": null,
      "outputs": []
    },
    {
      "cell_type": "markdown",
      "metadata": {
        "id": "qUJvgklCmWQi"
      },
      "source": [
        "## # 06. print the prediction values for image 0 at iterations 0, 100, 200, 300, 400, 500, 600, 700, 800, 900"
      ]
    },
    {
      "cell_type": "code",
      "metadata": {
        "id": "FnxYS4aNmWQj"
      },
      "source": [
        "function_result_06(...)"
      ],
      "execution_count": null,
      "outputs": []
    },
    {
      "cell_type": "markdown",
      "metadata": {
        "id": "6SrFCI43mWQj"
      },
      "source": [
        "## # 07. print the prediction values for image 1 at iterations 0, 100, 200, 300, 400, 500, 600, 700, 800, 900"
      ]
    },
    {
      "cell_type": "code",
      "metadata": {
        "id": "MfleBRVhmWQj"
      },
      "source": [
        "function_result_07(...)"
      ],
      "execution_count": null,
      "outputs": []
    }
  ]
}