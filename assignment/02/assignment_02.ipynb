{
  "nbformat": 4,
  "nbformat_minor": 0,
  "metadata": {
    "colab": {
      "name": "assignment_02.ipynb",
      "provenance": [],
      "collapsed_sections": []
    },
    "kernelspec": {
      "name": "python3",
      "display_name": "Python 3.8.8 64-bit ('base': conda)"
    },
    "language_info": {
      "name": "python",
      "version": "3.8.8",
      "mimetype": "text/x-python",
      "codemirror_mode": {
        "name": "ipython",
        "version": 3
      },
      "pygments_lexer": "ipython3",
      "nbconvert_exporter": "python",
      "file_extension": ".py"
    },
    "interpreter": {
      "hash": "dca0ade3e726a953b501b15e8e990130d2b7799f14cfd9f4271676035ebe5511"
    }
  },
  "cells": [
    {
      "cell_type": "markdown",
      "metadata": {
        "id": "K29I-OwCEYzW",
        "outputId": "db8b297c-a4b8-457a-b43f-7570135306c7"
      },
      "source": [
        "# Logistic regression for binary classification"
      ]
    },
    {
      "cell_type": "markdown",
      "metadata": {
        "id": "mEv1LIUNmWQN"
      },
      "source": [
        "## import libraries"
      ]
    },
    {
      "cell_type": "code",
      "metadata": {
        "id": "XisIPtH1mWQN"
      },
      "source": [
        "import numpy as np\n",
        "import matplotlib.image as img\n",
        "import matplotlib.pyplot as plt\n",
        "import matplotlib.colors as colors\n",
        "import os"
      ],
      "execution_count": 273,
      "outputs": []
    },
    {
      "cell_type": "markdown",
      "metadata": {
        "id": "f4mEQE3YmWQP"
      },
      "source": [
        "## load data"
      ]
    },
    {
      "cell_type": "code",
      "metadata": {
        "colab": {
          "base_uri": "https://localhost:8080/"
        },
        "id": "gYrkmNPtmWQQ",
        "outputId": "5a212694-e309-4fb8-e3a4-fa163f4135c8"
      },
      "source": [
        "directory_data  = './data/'\n",
        "filename_data   = 'assignment_02_data.npz'\n",
        "data            = np.load(os.path.join(directory_data, filename_data))\n",
        "\n",
        "x = data['x']\n",
        "y = data['y']\n",
        "\n",
        "print('size of x (image) :', x.shape)\n",
        "print('size of y (label) :', y.shape)\n",
        "\n",
        "print('number of image :', x.shape[0])\n",
        "print('height of image :', x.shape[1])\n",
        "print('width of image :', x.shape[2])\n",
        "im_0    = x[0,:,:]\n",
        "im_1    = x[1,:,:]\n",
        "label_0 = y[0]\n",
        "label_1 = y[1]\n",
        "\n"
      ],
      "execution_count": 274,
      "outputs": [
        {
          "output_type": "stream",
          "name": "stdout",
          "text": [
            "size of x (image) : (2, 28, 28)\n",
            "size of y (label) : (2,)\n",
            "number of image : 2\n",
            "height of image : 28\n",
            "width of image : 28\n"
          ]
        }
      ]
    },
    {
      "cell_type": "markdown",
      "metadata": {
        "id": "VK04ugBBmWQS"
      },
      "source": [
        "## plot data"
      ]
    },
    {
      "cell_type": "code",
      "metadata": {
        "id": "Nf0f_dEhmWQS"
      },
      "source": [
        "def plot_data2(title1, data1, title2, data2):\n",
        "\n",
        "    fig = plt.figure(figsize=(8,4))\n",
        "\n",
        "    rows = 1\n",
        "    cols = 2\n",
        "\n",
        "    ax1 = fig.add_subplot(rows, cols, 1)\n",
        "    ax1.set_title(title1)\n",
        "    ax1.imshow(data1, cmap='gray', vmin=0, vmax=1)\n",
        "\n",
        "    ax2 = fig.add_subplot(rows, cols, 2)\n",
        "    ax2.set_title(title2)\n",
        "    ax2.imshow(data2, cmap='gray', vmin=0, vmax=1)\n",
        "\n",
        "    plt.tight_layout()\n",
        "    plt.show()"
      ],
      "execution_count": 275,
      "outputs": []
    },
    {
      "cell_type": "code",
      "metadata": {
        "colab": {
          "base_uri": "https://localhost:8080/",
          "height": 312
        },
        "id": "WxVboraFmWQV",
        "outputId": "07121cb8-43fb-4fef-8fc4-d4041fdfb94c"
      },
      "source": [
        "plot_data2('label: 0', im_0, 'label: 1', im_1)"
      ],
      "execution_count": 276,
      "outputs": [
        {
          "output_type": "display_data",
          "data": {
            "image/png": "[encoded data removed]",
            "text/plain": [
              "<Figure size 576x288 with 2 Axes>"
            ]
          },
          "metadata": {
            "needs_background": "light"
          }
        }
      ]
    },
    {
      "cell_type": "markdown",
      "metadata": {
        "id": "PXYTyyjvmWQW"
      },
      "source": [
        "## convert gray scale image to color"
      ]
    },
    {
      "cell_type": "code",
      "metadata": {
        "colab": {
          "base_uri": "https://localhost:8080/"
        },
        "id": "kKmNLubumWQW",
        "outputId": "6c15ac62-5b3e-4dc8-d785-b041ab0c9378"
      },
      "source": [
        "im_0_red    = np.zeros((im_0.shape[0], im_0.shape[1], 3))\n",
        "im_0_green  = np.zeros((im_0.shape[0], im_0.shape[1], 3))\n",
        "im_0_blue   = np.zeros((im_0.shape[0], im_0.shape[1], 3))\n",
        "\n",
        "im_1_red    = np.zeros((im_1.shape[0], im_1.shape[1], 3))\n",
        "im_1_green  = np.zeros((im_1.shape[0], im_1.shape[1], 3))\n",
        "im_1_blue   = np.zeros((im_1.shape[0], im_1.shape[1], 3))\n",
        "\n",
        "im_0_red[:,:,0]     = im_0\n",
        "im_0_green[:,:,1]   = im_0\n",
        "im_0_blue[:,:,2]    = im_0\n",
        "\n",
        "im_1_red[:,:,0]     = im_1\n",
        "im_1_green[:,:,1]   = im_1\n",
        "im_1_blue[:,:,2]    = im_1\n",
        "\n",
        "print(im_0_red.shape)\n",
        "print(im_0_green.shape)\n",
        "print(im_0_blue.shape)\n",
        "\n",
        "print(im_1_red.shape)\n",
        "print(im_1_green.shape)\n",
        "print(im_1_blue.shape)\n"
      ],
      "execution_count": 277,
      "outputs": [
        {
          "output_type": "stream",
          "name": "stdout",
          "text": [
            "(28, 28, 3)\n",
            "(28, 28, 3)\n",
            "(28, 28, 3)\n",
            "(28, 28, 3)\n",
            "(28, 28, 3)\n",
            "(28, 28, 3)\n"
          ]
        }
      ]
    },
    {
      "cell_type": "markdown",
      "metadata": {
        "id": "vnhaHlDcmWQX"
      },
      "source": [
        "## plot color data"
      ]
    },
    {
      "cell_type": "code",
      "metadata": {
        "id": "6hjvOBi1mWQX"
      },
      "source": [
        "def plot_data_color3(title1, data1, title2, data2, title3, data3):\n",
        "\n",
        "    fig, axes = plt.subplots(1, 3, constrained_layout=True, figsize=(12, 4))\n",
        "\n",
        "    axes[0].imshow(data1, vmin=0, vmax=1)\n",
        "    axes[0].set(title=title1)\n",
        "    \n",
        "    axes[1].imshow(data2, vmin=0, vmax=1)\n",
        "    axes[1].set(title=title2)\n",
        "    \n",
        "    axes[2].imshow(data3, vmin=0, vmax=1)\n",
        "    axes[2].set(title=title3)\n",
        "\n",
        "    plt.show()\n"
      ],
      "execution_count": 278,
      "outputs": []
    },
    {
      "cell_type": "code",
      "metadata": {
        "colab": {
          "base_uri": "https://localhost:8080/",
          "height": 322
        },
        "id": "QQXjGLtGmWQY",
        "outputId": "856149a8-c63b-4e76-e97c-223c653a0c1a"
      },
      "source": [
        "plot_data_color3('im 0: red', im_0_red, 'im 0: green', im_0_green, 'im 0: blue', im_0_blue)"
      ],
      "execution_count": 279,
      "outputs": [
        {
          "output_type": "display_data",
          "data": {
            "image/png": "[encoded data removed]",
            "text/plain": [
              "<Figure size 864x288 with 3 Axes>"
            ]
          },
          "metadata": {
            "needs_background": "light"
          }
        }
      ]
    },
    {
      "cell_type": "code",
      "metadata": {
        "colab": {
          "base_uri": "https://localhost:8080/",
          "height": 322
        },
        "id": "8lwExqKVmWQY",
        "outputId": "b668255d-3b3a-4454-9511-58e13282d405"
      },
      "source": [
        "plot_data_color3('im 1: red', im_1_red, 'im 1: green', im_1_green, 'im 1: blue', im_1_blue)"
      ],
      "execution_count": 280,
      "outputs": [
        {
          "output_type": "display_data",
          "data": {
            "image/png": "[encoded data removed]",
            "text/plain": [
              "<Figure size 864x288 with 3 Axes>"
            ]
          },
          "metadata": {
            "needs_background": "light"
          }
        }
      ]
    },
    {
      "cell_type": "markdown",
      "metadata": {
        "id": "AezLrQT1mWQZ"
      },
      "source": [
        "## linear layer"
      ]
    },
    {
      "cell_type": "code",
      "metadata": {
        "id": "lVp1kcmjmWQZ"
      },
      "source": [
        "def layer_linear(input, weight):\n",
        "    \n",
        "    # fill in the function body\n",
        "    output = np.dot(input, weight)\n",
        "    # -------------------------\n",
        "\n",
        "    return output"
      ],
      "execution_count": 281,
      "outputs": []
    },
    {
      "cell_type": "markdown",
      "metadata": {
        "id": "3lVSyZrrmWQZ"
      },
      "source": [
        "## [git commit # 01] % git commit -a -m \"complete the function for linear layer\""
      ]
    },
    {
      "cell_type": "markdown",
      "metadata": {
        "id": "Pd0Eb6l3mWQa"
      },
      "source": [
        "## activation function : Sigmoid"
      ]
    },
    {
      "cell_type": "code",
      "metadata": {
        "id": "jcJLGasamWQa"
      },
      "source": [
        "def activation_sigmoid(input):\n",
        "    \n",
        "    # fill in the function body\n",
        "    output = 1 / (1 + np.exp(-input))\n",
        "    # -------------------------\n",
        "\n",
        "    return output"
      ],
      "execution_count": 282,
      "outputs": []
    },
    {
      "cell_type": "markdown",
      "metadata": {
        "id": "RQRqVl2smWQa"
      },
      "source": [
        "## [git commit # 02] % git commit -a -m \"complete the function for the sigmoid activation\""
      ]
    },
    {
      "cell_type": "markdown",
      "metadata": {
        "id": "zUeFNOP_mWQa"
      },
      "source": [
        "## forward propagation "
      ]
    },
    {
      "cell_type": "code",
      "metadata": {
        "id": "MYwJBsDpmWQb"
      },
      "source": [
        "def propagation_forward(input, weight):\n",
        "    \n",
        "    # fill in the function body\n",
        "    output      = activation_sigmoid(layer_linear(input, weight))\n",
        "    prediction  = np.where(output < 0.5, 0, 1)\n",
        "    # -------------------------\n",
        "\n",
        "    return prediction"
      ],
      "execution_count": 283,
      "outputs": []
    },
    {
      "cell_type": "markdown",
      "metadata": {
        "id": "FJ6oGelZmWQb"
      },
      "source": [
        "## [git commit # 03] % git commit -a -m \"complete the function for the forward propagation\""
      ]
    },
    {
      "cell_type": "markdown",
      "metadata": {
        "id": "-tspK9C_mWQb"
      },
      "source": [
        "## compute loss function"
      ]
    },
    {
      "cell_type": "code",
      "metadata": {
        "id": "7bhEhxa77yFd"
      },
      "source": [
        "def compute_loss(input, weight, label):\n",
        "\n",
        "    # fill in the function body\n",
        "    prediction      = activation_sigmoid(layer_linear(input, weight))\n",
        "    loss            = -(label * np.log(prediction) + (1-label) * np.log(1-prediction))\n",
        "    loss_average    = np.sum(loss) / loss.size\n",
        "    # -------------------------\n",
        "\n",
        "    return loss_average"
      ],
      "execution_count": 284,
      "outputs": []
    },
    {
      "cell_type": "markdown",
      "metadata": {
        "id": "QtKtN15wmWQb"
      },
      "source": [
        "## [git commit # 04] % git commit -a -m \"complete the function for the loss\""
      ]
    },
    {
      "cell_type": "markdown",
      "metadata": {
        "id": "3fyCEUvgmWQc"
      },
      "source": [
        "## compute gradient"
      ]
    },
    {
      "cell_type": "code",
      "metadata": {
        "id": "0T3SdxoWmWQc"
      },
      "source": [
        "def compute_gradient(input, weight, label):\n",
        "\n",
        "    # fill in the function body\n",
        "    prediction  = activation_sigmoid(layer_linear(input, weight))\n",
        "    residual    = prediction - label\n",
        "    gradient    = np.multiply(residual.reshape(len(input),1), input)\n",
        "    # -------------------------\n",
        "\n",
        "    return gradient"
      ],
      "execution_count": 285,
      "outputs": []
    },
    {
      "cell_type": "markdown",
      "metadata": {
        "id": "9a1gmVLImWQc"
      },
      "source": [
        "## [git commit # 05] % git commit -a -m \"complete the function for the computation of gradient\""
      ]
    },
    {
      "cell_type": "markdown",
      "metadata": {
        "id": "zrOPFWiJmWQc"
      },
      "source": [
        "## initialize weight"
      ]
    },
    {
      "cell_type": "code",
      "metadata": {
        "id": "3LKUbew0xj__"
      },
      "source": [
        "weight  = np.ones(np.prod(im_0.shape))\n",
        "weight  = weight * 0.001\n",
        "\n",
        "vector_0    = np.matrix.flatten(im_0)\n",
        "vector_1    = np.matrix.flatten(im_1)\n",
        "input   = [vector_0, vector_1]\n",
        "label   = y"
      ],
      "execution_count": 286,
      "outputs": []
    },
    {
      "cell_type": "code",
      "metadata": {
        "id": "_FGU3kOdmWQc"
      },
      "source": [
        "number_iteration    = 1000\n",
        "learning_rate       = 0.01"
      ],
      "execution_count": 287,
      "outputs": []
    },
    {
      "cell_type": "markdown",
      "metadata": {
        "id": "-c8X0Tt2mWQd"
      },
      "source": [
        "## gradient descent"
      ]
    },
    {
      "cell_type": "code",
      "metadata": {
        "id": "74Dyqq2amWQd"
      },
      "source": [
        "loss_iteration      = np.zeros(number_iteration)\n",
        "pred_0_iteration    = np.zeros(number_iteration) \n",
        "pred_1_iteration    = np.zeros(number_iteration) \n",
        "\n",
        "for i in range(number_iteration):\n",
        "\n",
        "    # fill in the function body\n",
        "    sum_of_gradient = np.sum(compute_gradient(input, weight, label), axis=0)\n",
        "    weight  = weight - learning_rate * sum_of_gradient / len(input)\n",
        "    loss    = compute_loss(input, weight, label)\n",
        "    pred    = activation_sigmoid(layer_linear(input, weight))\n",
        "    # -------------------------\n",
        "\n",
        "    loss_iteration[i]   = loss\n",
        "    pred_0_iteration[i] = pred[0]\n",
        "    pred_1_iteration[i] = pred[1]\n",
        "    \n",
        "    # print('iteration = %4d, loss = %5.5f' % (i, loss))"
      ],
      "execution_count": 288,
      "outputs": []
    },
    {
      "cell_type": "markdown",
      "metadata": {
        "id": "2SOewUgJmWQd"
      },
      "source": [
        "## [git commit # 06] % git commit -a -m \"complete the function for the gradient descent\""
      ]
    },
    {
      "cell_type": "markdown",
      "metadata": {
        "id": "dIOM9U2xmWQd"
      },
      "source": [
        "## plot learning curve"
      ]
    },
    {
      "cell_type": "code",
      "metadata": {
        "id": "T3Fwfc2LmWQd"
      },
      "source": [
        "def plot_curve(title, data):\n",
        "\n",
        "    plt.figure(figsize=(8, 6))\n",
        "    plt.title(title)\n",
        "\n",
        "    plt.plot(data, '-', color='red')\n",
        "    plt.xlabel('iteration')\n",
        "    plt.ylabel('loss')\n",
        "\n",
        "    plt.tight_layout()\n",
        "    plt.show()"
      ],
      "execution_count": 289,
      "outputs": []
    },
    {
      "cell_type": "code",
      "metadata": {
        "colab": {
          "base_uri": "https://localhost:8080/",
          "height": 441
        },
        "id": "QWTQFzb1mWQd",
        "outputId": "2a6f6fdd-0e82-49fe-9081-f7712b4bf1ed"
      },
      "source": [
        "plot_curve('loss', loss_iteration)"
      ],
      "execution_count": 311,
      "outputs": [
        {
          "output_type": "display_data",
          "data": {
            "image/png": "[encoded data removed]",
            "text/plain": [
              "<Figure size 576x432 with 1 Axes>"
            ]
          },
          "metadata": {
            "needs_background": "light"
          }
        }
      ]
    },
    {
      "cell_type": "markdown",
      "metadata": {
        "id": "hzoebLhMmWQe"
      },
      "source": [
        "## plot prediction values"
      ]
    },
    {
      "cell_type": "code",
      "metadata": {
        "id": "WzieX7sVmWQe"
      },
      "source": [
        "def plot_curve2(title, data1, label1, data2, label2):\n",
        "\n",
        "\n",
        "    fig = plt.figure(figsize=(8,6))\n",
        "    plt.title(title)\n",
        "\n",
        "    plt.plot(data1, '-', color='blue', label=label1)\n",
        "    plt.plot(data2, '-', color='red', label=label2)\n",
        "    plt.legend()\n",
        "    plt.tight_layout()\n",
        "\n",
        "    plt.show()"
      ],
      "execution_count": 291,
      "outputs": []
    },
    {
      "cell_type": "code",
      "metadata": {
        "colab": {
          "base_uri": "https://localhost:8080/",
          "height": 441
        },
        "id": "J2Uf54OTmWQe",
        "outputId": "da1426c8-c453-4c8b-feae-ac806f68b340"
      },
      "source": [
        "plot_curve2('prediction', pred_0_iteration, 'im 0', pred_1_iteration, 'im 1')"
      ],
      "execution_count": 292,
      "outputs": [
        {
          "output_type": "display_data",
          "data": {
            "image/png": "[encoded data removed]",
            "text/plain": [
              "<Figure size 576x432 with 1 Axes>"
            ]
          },
          "metadata": {
            "needs_background": "light"
          }
        }
      ]
    },
    {
      "cell_type": "markdown",
      "metadata": {
        "id": "V0X0ZkUDmWQe"
      },
      "source": [
        "## given iterations at which the values are presented"
      ]
    },
    {
      "cell_type": "code",
      "metadata": {
        "id": "wHJUu403mWQe"
      },
      "source": [
        "iter0   = 0\n",
        "iter1   = 100\n",
        "iter2   = 200\n",
        "iter3   = 300\n",
        "iter4   = 400\n",
        "iter5   = 500\n",
        "iter6   = 600\n",
        "iter7   = 700\n",
        "iter8   = 800\n",
        "iter9   = 900\n"
      ],
      "execution_count": 293,
      "outputs": []
    },
    {
      "cell_type": "markdown",
      "metadata": {
        "id": "ZRHqOfZSmWQe"
      },
      "source": [
        "## loss values"
      ]
    },
    {
      "cell_type": "code",
      "metadata": {
        "colab": {
          "base_uri": "https://localhost:8080/"
        },
        "id": "_-jb3mFPmWQe",
        "outputId": "569d13d2-8b27-48da-e4b5-26cdcd7d5954"
      },
      "source": [
        "print('iteration = %4d, loss = %12.10f' % (iter0, loss_iteration[iter0]))\n",
        "print('iteration = %4d, loss = %12.10f' % (iter1, loss_iteration[iter1]))\n",
        "print('iteration = %4d, loss = %12.10f' % (iter2, loss_iteration[iter2]))\n",
        "print('iteration = %4d, loss = %12.10f' % (iter3, loss_iteration[iter3]))\n",
        "print('iteration = %4d, loss = %12.10f' % (iter4, loss_iteration[iter4]))\n",
        "print('iteration = %4d, loss = %12.10f' % (iter5, loss_iteration[iter5]))\n",
        "print('iteration = %4d, loss = %12.10f' % (iter6, loss_iteration[iter6]))\n",
        "print('iteration = %4d, loss = %12.10f' % (iter7, loss_iteration[iter7]))\n",
        "print('iteration = %4d, loss = %12.10f' % (iter8, loss_iteration[iter8]))\n",
        "print('iteration = %4d, loss = %12.10f' % (iter9, loss_iteration[iter9]))"
      ],
      "execution_count": 294,
      "outputs": [
        {
          "output_type": "stream",
          "name": "stdout",
          "text": [
            "iteration =    0, loss = 0.6329350216\n",
            "iteration =  100, loss = 0.0387987005\n",
            "iteration =  200, loss = 0.0192110507\n",
            "iteration =  300, loss = 0.0127217113\n",
            "iteration =  400, loss = 0.0094994077\n",
            "iteration =  500, loss = 0.0075760710\n",
            "iteration =  600, loss = 0.0062989058\n",
            "iteration =  700, loss = 0.0053894604\n",
            "iteration =  800, loss = 0.0047090685\n",
            "iteration =  900, loss = 0.0041809548\n"
          ]
        }
      ]
    },
    {
      "cell_type": "markdown",
      "metadata": {
        "id": "Mdglgn89mWQf"
      },
      "source": [
        "## prediction values for im_0"
      ]
    },
    {
      "cell_type": "code",
      "metadata": {
        "colab": {
          "base_uri": "https://localhost:8080/"
        },
        "id": "c3wY-9xomWQf",
        "outputId": "0dcce662-657a-423f-d12e-591932b9b27d"
      },
      "source": [
        "print('iteration = %4d, pred im0 = %12.10f' % (iter0, pred_0_iteration[iter0]))\n",
        "print('iteration = %4d, pred im0 = %12.10f' % (iter1, pred_0_iteration[iter1]))\n",
        "print('iteration = %4d, pred im0 = %12.10f' % (iter2, pred_0_iteration[iter2]))\n",
        "print('iteration = %4d, pred im0 = %12.10f' % (iter3, pred_0_iteration[iter3]))\n",
        "print('iteration = %4d, pred im0 = %12.10f' % (iter4, pred_0_iteration[iter4]))\n",
        "print('iteration = %4d, pred im0 = %12.10f' % (iter5, pred_0_iteration[iter5]))\n",
        "print('iteration = %4d, pred im0 = %12.10f' % (iter6, pred_0_iteration[iter6]))\n",
        "print('iteration = %4d, pred im0 = %12.10f' % (iter7, pred_0_iteration[iter7]))\n",
        "print('iteration = %4d, pred im0 = %12.10f' % (iter8, pred_0_iteration[iter8]))\n",
        "print('iteration = %4d, pred im0 = %12.10f' % (iter9, pred_0_iteration[iter9]))"
      ],
      "execution_count": 295,
      "outputs": [
        {
          "output_type": "stream",
          "name": "stdout",
          "text": [
            "iteration =    0, pred im0 = 0.4751157638\n",
            "iteration =  100, pred im0 = 0.0294013919\n",
            "iteration =  200, pred im0 = 0.0147619719\n",
            "iteration =  300, pred im0 = 0.0098246200\n",
            "iteration =  400, pred im0 = 0.0073549633\n",
            "iteration =  500, pred im0 = 0.0058749365\n",
            "iteration =  600, pred im0 = 0.0048896397\n",
            "iteration =  700, pred im0 = 0.0041867921\n",
            "iteration =  800, pred im0 = 0.0036602851\n",
            "iteration =  900, pred im0 = 0.0032512118\n"
          ]
        }
      ]
    },
    {
      "cell_type": "markdown",
      "metadata": {
        "id": "LMBeJJw5mWQf"
      },
      "source": [
        "## prediction values for im_1"
      ]
    },
    {
      "cell_type": "code",
      "metadata": {
        "colab": {
          "base_uri": "https://localhost:8080/"
        },
        "id": "qlBuoikamWQf",
        "outputId": "155dedaf-eea1-4f86-a4ad-13bb87f4b42a"
      },
      "source": [
        "print('iteration = %4d, pred im1 = %12.10f' % (iter0, pred_1_iteration[iter0]))\n",
        "print('iteration = %4d, pred im1 = %12.10f' % (iter1, pred_1_iteration[iter1]))\n",
        "print('iteration = %4d, pred im1 = %12.10f' % (iter2, pred_1_iteration[iter2]))\n",
        "print('iteration = %4d, pred im1 = %12.10f' % (iter3, pred_1_iteration[iter3]))\n",
        "print('iteration = %4d, pred im1 = %12.10f' % (iter4, pred_1_iteration[iter4]))\n",
        "print('iteration = %4d, pred im1 = %12.10f' % (iter5, pred_1_iteration[iter5]))\n",
        "print('iteration = %4d, pred im1 = %12.10f' % (iter6, pred_1_iteration[iter6]))\n",
        "print('iteration = %4d, pred im1 = %12.10f' % (iter7, pred_1_iteration[iter7]))\n",
        "print('iteration = %4d, pred im1 = %12.10f' % (iter8, pred_1_iteration[iter8]))\n",
        "print('iteration = %4d, pred im1 = %12.10f' % (iter9, pred_1_iteration[iter9]))"
      ],
      "execution_count": 296,
      "outputs": [
        {
          "output_type": "stream",
          "name": "stdout",
          "text": [
            "iteration =    0, pred im1 = 0.5372495936\n",
            "iteration =  100, pred im1 = 0.9533672143\n",
            "iteration =  200, pred im1 = 0.9767250520\n",
            "iteration =  300, pred im1 = 0.9845503666\n",
            "iteration =  400, pred im1 = 0.9884505421\n",
            "iteration =  500, pred im1 = 0.9907828605\n",
            "iteration =  600, pred im1 = 0.9923333612\n",
            "iteration =  700, pred im1 = 0.9934382832\n",
            "iteration =  800, pred im1 = 0.9942653695\n",
            "iteration =  900, pred im1 = 0.9949076094\n"
          ]
        }
      ]
    },
    {
      "cell_type": "code",
      "metadata": {
        "id": "FcelAryomWQg"
      },
      "source": [
        "def function_result_01(*args):\n",
        "\n",
        "    pass"
      ],
      "execution_count": 297,
      "outputs": []
    },
    {
      "cell_type": "markdown",
      "metadata": {
        "id": "sfdI6y1tmWQg"
      },
      "source": [
        "## [git commit # 07] % git commit -a -m \"complete the function for the function result 01\""
      ]
    },
    {
      "cell_type": "code",
      "metadata": {
        "id": "Wgv4g_fbmWQg"
      },
      "source": [
        "def function_result_02(*args):\n",
        "\n",
        "    pass"
      ],
      "execution_count": 298,
      "outputs": []
    },
    {
      "cell_type": "markdown",
      "metadata": {
        "id": "KjJjnpc7mWQg"
      },
      "source": [
        "## [git commit # 08] % git commit -a -m \"complete the function for the function result 02\""
      ]
    },
    {
      "cell_type": "code",
      "metadata": {
        "id": "HMePB4h9mWQg"
      },
      "source": [
        "def function_result_03(*args):\n",
        "    \n",
        "    pass"
      ],
      "execution_count": 299,
      "outputs": []
    },
    {
      "cell_type": "markdown",
      "metadata": {
        "id": "YfL2eBnzmWQg"
      },
      "source": [
        "## [git commit # 09] % git commit -a -m \"complete the function for the function result 03\""
      ]
    },
    {
      "cell_type": "code",
      "metadata": {
        "id": "204ErfOimWQg"
      },
      "source": [
        "def function_result_04(*args):\n",
        "\n",
        "    pass"
      ],
      "execution_count": 300,
      "outputs": []
    },
    {
      "cell_type": "markdown",
      "metadata": {
        "id": "BiWiHg83mWQg"
      },
      "source": [
        "## [git commit # 10] % git commit -a -m \"complete the function for the function result 04\""
      ]
    },
    {
      "cell_type": "code",
      "metadata": {
        "id": "Br1DepzImWQg"
      },
      "source": [
        "def function_result_05(*args):\n",
        "\n",
        "    pass"
      ],
      "execution_count": 301,
      "outputs": []
    },
    {
      "cell_type": "markdown",
      "metadata": {
        "id": "urnB5iH9mWQh"
      },
      "source": [
        "## [git commit # 11] % git commit -a -m \"complete the function for the function result 05\""
      ]
    },
    {
      "cell_type": "code",
      "metadata": {
        "id": "iodQiep4mWQh"
      },
      "source": [
        "def function_result_06(*args):\n",
        "\n",
        "    pass"
      ],
      "execution_count": 302,
      "outputs": []
    },
    {
      "cell_type": "markdown",
      "metadata": {
        "id": "z_-LBRCdmWQh"
      },
      "source": [
        "## [git commit # 12] % git commit -a -m \"complete the function for the function result 06\""
      ]
    },
    {
      "cell_type": "code",
      "metadata": {
        "id": "yWxWu9bwmWQh"
      },
      "source": [
        "def function_result_07(*args):\n",
        "\n",
        "    pass"
      ],
      "execution_count": 303,
      "outputs": []
    },
    {
      "cell_type": "markdown",
      "metadata": {
        "id": "cp5rbu0xmWQh"
      },
      "source": [
        "## [git commit # 13] % git commit -a -m \"complete the function for the function result 07\""
      ]
    },
    {
      "cell_type": "markdown",
      "metadata": {
        "id": "20T7iEeWmWQh"
      },
      "source": [
        "---"
      ]
    },
    {
      "cell_type": "markdown",
      "metadata": {
        "id": "vwNrPIFWmWQh"
      },
      "source": [
        "# RESULTS"
      ]
    },
    {
      "cell_type": "markdown",
      "metadata": {
        "id": "2ed3A10bmWQh"
      },
      "source": [
        "---"
      ]
    },
    {
      "cell_type": "markdown",
      "metadata": {
        "id": "Bvjv4VDImWQh"
      },
      "source": [
        "## # 01. plot the input images (left: image 0, right: image 1)"
      ]
    },
    {
      "cell_type": "code",
      "metadata": {
        "id": "P0r7l3vDmWQi"
      },
      "source": [
        "function_result_01(...)"
      ],
      "execution_count": 304,
      "outputs": []
    },
    {
      "cell_type": "markdown",
      "metadata": {
        "id": "95bRMLIJmWQi"
      },
      "source": [
        "## # 02. plot the loss curve (x-axis: iteration, y-axis: loss)"
      ]
    },
    {
      "cell_type": "code",
      "metadata": {
        "id": "iHhBuqPqmWQi"
      },
      "source": [
        "function_result_02(...)"
      ],
      "execution_count": 305,
      "outputs": []
    },
    {
      "cell_type": "markdown",
      "metadata": {
        "id": "9GjfZ5mUmWQi"
      },
      "source": [
        "## # 03. plot the prediction value for image 0 (x-axis: iteration, y-axis: prediction)"
      ]
    },
    {
      "cell_type": "code",
      "metadata": {
        "id": "WxXN1dpcmWQi"
      },
      "source": [
        "function_result_03(...)"
      ],
      "execution_count": 306,
      "outputs": []
    },
    {
      "cell_type": "markdown",
      "metadata": {
        "id": "vuXu2Jx_mWQi"
      },
      "source": [
        "## # 04. plot the prediction value for image 1 (x-axis: iteration, y-axis: prediction)"
      ]
    },
    {
      "cell_type": "code",
      "metadata": {
        "id": "WgUHAcH7mWQi"
      },
      "source": [
        "function_result_04(...)"
      ],
      "execution_count": 307,
      "outputs": []
    },
    {
      "cell_type": "markdown",
      "metadata": {
        "id": "OeqwWrtJmWQi"
      },
      "source": [
        "## # 05. print the loss values at iterations 0, 100, 200, 300, 400, 500, 600, 700, 800, 900"
      ]
    },
    {
      "cell_type": "code",
      "metadata": {
        "id": "lL2riQ05mWQi"
      },
      "source": [
        "function_result_05(...)"
      ],
      "execution_count": 308,
      "outputs": []
    },
    {
      "cell_type": "markdown",
      "metadata": {
        "id": "qUJvgklCmWQi"
      },
      "source": [
        "## # 06. print the prediction values for image 0 at iterations 0, 100, 200, 300, 400, 500, 600, 700, 800, 900"
      ]
    },
    {
      "cell_type": "code",
      "metadata": {
        "id": "FnxYS4aNmWQj"
      },
      "source": [
        "function_result_06(...)"
      ],
      "execution_count": 309,
      "outputs": []
    },
    {
      "cell_type": "markdown",
      "metadata": {
        "id": "6SrFCI43mWQj"
      },
      "source": [
        "## # 07. print the prediction values for image 1 at iterations 0, 100, 200, 300, 400, 500, 600, 700, 800, 900"
      ]
    },
    {
      "cell_type": "code",
      "metadata": {
        "id": "MfleBRVhmWQj"
      },
      "source": [
        "function_result_07(...)"
      ],
      "execution_count": 310,
      "outputs": []
    }
  ]
}