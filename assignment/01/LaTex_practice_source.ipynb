{
  "nbformat": 4,
  "nbformat_minor": 0,
  "metadata": {
    "colab": {
      "name": "LaTex.ipynb",
      "provenance": []
    },
    "kernelspec": {
      "name": "python3",
      "display_name": "Python 3"
    },
    "language_info": {
      "name": "python"
    }
  },
  "cells": [
    {
      "cell_type": "markdown",
      "metadata": {
        "id": "dSxwykxPHXni"
      },
      "source": [
        "(1) $f(x) = ax^2 + bx + c$\n"
      ]
    },
    {
      "cell_type": "markdown",
      "metadata": {
        "id": "1cYX01uoH2ds"
      },
      "source": [
        "(2) $f(x) = \\exp(x)$"
      ]
    },
    {
      "cell_type": "markdown",
      "metadata": {
        "id": "j_srTd5yIEfS"
      },
      "source": [
        "(3) $f(x) = \\frac{a}{b}, a\\in\\mathbb{R}, b\\in\\mathbb{R}$"
      ]
    },
    {
      "cell_type": "markdown",
      "metadata": {
        "id": "QPr4RzDRInKl"
      },
      "source": [
        "(4) $f(x) = \\sum_{i=1}^{n}x_i, \\space\\space x = (x_1, x_2,\\cdots, x_n)$"
      ]
    },
    {
      "cell_type": "markdown",
      "metadata": {
        "id": "iRa1nu_XJI7w"
      },
      "source": [
        "(5) $f(x) = \\int_\\Omega\\sigma(x,t){dt}$"
      ]
    },
    {
      "cell_type": "markdown",
      "metadata": {
        "id": "Nzb7t-bVJmg7"
      },
      "source": [
        "(6) $\\frac{\\partial{\\mathbb{E}}}{\\partial{w}}$"
      ]
    },
    {
      "cell_type": "markdown",
      "metadata": {
        "id": "EF-WiOEYMclH"
      },
      "source": [
        "(7) $w^{t+1} = w^t - \\eta\\nabla\\mathcal{L}(w^t)$"
      ]
    }
  ]
}