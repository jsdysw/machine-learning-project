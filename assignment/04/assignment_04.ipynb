{
  "nbformat": 4,
  "nbformat_minor": 0,
  "metadata": {
    "colab": {
      "name": "assignment_02.ipynb",
      "provenance": [],
      "collapsed_sections": []
    },
    "kernelspec": {
      "name": "python3",
      "display_name": "Python 3.8.8 64-bit ('base': conda)"
    },
    "language_info": {
      "name": "python",
      "version": "3.8.8",
      "mimetype": "text/x-python",
      "codemirror_mode": {
        "name": "ipython",
        "version": 3
      },
      "pygments_lexer": "ipython3",
      "nbconvert_exporter": "python",
      "file_extension": ".py"
    },
    "interpreter": {
      "hash": "dca0ade3e726a953b501b15e8e990130d2b7799f14cfd9f4271676035ebe5511"
    },
    "accelerator": "GPU"
  },
  "cells": [
    {
      "cell_type": "markdown",
      "metadata": {
        "id": "K29I-OwCEYzW",
        "outputId": "db8b297c-a4b8-457a-b43f-7570135306c7"
      },
      "source": [
        "# Classification for multiple classes based on softmax and cross entropy"
      ]
    },
    {
      "cell_type": "markdown",
      "metadata": {
        "id": "hVFNNAnUyHE2"
      },
      "source": [
        "## import libraries"
      ]
    },
    {
      "cell_type": "code",
      "metadata": {
        "id": "cojWDTdvyHE3"
      },
      "source": [
        "import numpy as np\n",
        "import matplotlib.pyplot as plt\n",
        "import os\n",
        "from tqdm import tqdm"
      ],
      "execution_count": 1,
      "outputs": []
    },
    {
      "cell_type": "markdown",
      "metadata": {
        "id": "bV7as4ZQyHE5"
      },
      "source": [
        "## load data"
      ]
    },
    {
      "cell_type": "code",
      "metadata": {
        "colab": {
          "base_uri": "https://localhost:8080/"
        },
        "id": "bOlsfqK2yHE6",
        "outputId": "8b3daf2b-5e3c-4db9-8a42-47084b3c7587"
      },
      "source": [
        "directory_data  = './data/'\n",
        "filename_data   = 'assignment_04_data.npz'\n",
        "data            = np.load(os.path.join(directory_data, filename_data))\n",
        "\n",
        "x_train = data['x_train']\n",
        "y_train = data['y_train']\n",
        "\n",
        "x_test  = data['x_test']\n",
        "y_test  = data['y_test']\n",
        "\n",
        "print('*************************************************')\n",
        "print('size of x_train :', x_train.shape)\n",
        "print('size of y_train :', y_train.shape)\n",
        "print('*************************************************')\n",
        "print('size of x_test :', x_test.shape)\n",
        "print('size of y_test :', y_test.shape)\n",
        "print('*************************************************')\n",
        "print('number of training image :', x_train.shape[0])\n",
        "print('height of training image :', x_train.shape[1])\n",
        "print('width of training image :', x_train.shape[2])\n",
        "print('*************************************************')\n",
        "print('number of testing image :', x_test.shape[0])\n",
        "print('height of testing image :', x_test.shape[1])\n",
        "print('width of testing image :', x_test.shape[2])\n",
        "print('*************************************************')"
      ],
      "execution_count": 2,
      "outputs": [
        {
          "output_type": "stream",
          "name": "stdout",
          "text": [
            "*************************************************\n",
            "size of x_train : (10000, 28, 28)\n",
            "size of y_train : (10000, 5)\n",
            "*************************************************\n",
            "size of x_test : (4500, 28, 28)\n",
            "size of y_test : (4500, 5)\n",
            "*************************************************\n",
            "number of training image : 10000\n",
            "height of training image : 28\n",
            "width of training image : 28\n",
            "*************************************************\n",
            "number of testing image : 4500\n",
            "height of testing image : 28\n",
            "width of testing image : 28\n",
            "*************************************************\n"
          ]
        }
      ]
    },
    {
      "cell_type": "markdown",
      "metadata": {
        "id": "rU-T4aPoyHE8"
      },
      "source": [
        "## number of classes"
      ]
    },
    {
      "cell_type": "code",
      "metadata": {
        "colab": {
          "base_uri": "https://localhost:8080/"
        },
        "id": "Mm3lb48DyHE9",
        "outputId": "805aacb2-1662-401e-bd06-71270c9d074b"
      },
      "source": [
        "nClass = y_train.shape[1]\n",
        "print('number of classes: ', nClass)"
      ],
      "execution_count": 3,
      "outputs": [
        {
          "output_type": "stream",
          "name": "stdout",
          "text": [
            "number of classes:  5\n"
          ]
        }
      ]
    },
    {
      "cell_type": "markdown",
      "metadata": {
        "id": "cniDK5EVyHE-"
      },
      "source": [
        "## label data"
      ]
    },
    {
      "cell_type": "code",
      "metadata": {
        "colab": {
          "base_uri": "https://localhost:8080/"
        },
        "id": "No3jeKTiyHE_",
        "outputId": "783a70a9-cf2f-404e-c728-ee27ebd739c0"
      },
      "source": [
        "print('label data for training image 0: ', y_train[0])\n",
        "print('label data for training image 1: ', y_train[2000])\n",
        "print('label data for training image 2: ', y_train[4000])\n",
        "print('label data for training image 3: ', y_train[6000])\n",
        "print('label data for training image 4: ', y_train[8000])\n"
      ],
      "execution_count": 4,
      "outputs": [
        {
          "output_type": "stream",
          "name": "stdout",
          "text": [
            "label data for training image 0:  [1. 0. 0. 0. 0.]\n",
            "label data for training image 1:  [0. 1. 0. 0. 0.]\n",
            "label data for training image 2:  [0. 0. 1. 0. 0.]\n",
            "label data for training image 3:  [0. 0. 0. 1. 0.]\n",
            "label data for training image 4:  [0. 0. 0. 0. 1.]\n"
          ]
        }
      ]
    },
    {
      "cell_type": "markdown",
      "metadata": {
        "id": "hzWuRki-yHFB"
      },
      "source": [
        "## vectorize image data"
      ]
    },
    {
      "cell_type": "code",
      "metadata": {
        "colab": {
          "base_uri": "https://localhost:8080/"
        },
        "id": "83ohQc0vyHFB",
        "outputId": "2295fb0a-47ea-4ae1-9551-c0165fbc3d75"
      },
      "source": [
        "vector_x_train  = x_train.reshape(x_train.shape[0], x_train.shape[1] * x_train.shape[2])\n",
        "vector_x_test   = x_test.reshape(x_test.shape[0], x_test.shape[1] * x_test.shape[2])\n",
        "\n",
        "print('dimension of the training data matrix: ', vector_x_train.shape)\n",
        "print('dimension of the testing data matrix: ', vector_x_test.shape)\n",
        "\n",
        "print('dimension of the trainin label data: ', y_train.shape)\n",
        "print('dimension of the testing label data: ', y_test.shape)"
      ],
      "execution_count": 5,
      "outputs": [
        {
          "output_type": "stream",
          "name": "stdout",
          "text": [
            "dimension of the training data matrix:  (10000, 784)\n",
            "dimension of the testing data matrix:  (4500, 784)\n",
            "dimension of the trainin label data:  (10000, 5)\n",
            "dimension of the testing label data:  (4500, 5)\n"
          ]
        }
      ]
    },
    {
      "cell_type": "markdown",
      "metadata": {
        "id": "ZIw83yl5yHFC"
      },
      "source": [
        "## index for each class"
      ]
    },
    {
      "cell_type": "code",
      "metadata": {
        "colab": {
          "base_uri": "https://localhost:8080/"
        },
        "id": "W1eeCuPgyHFD",
        "outputId": "46769b30-026a-4bab-a133-52aed34b557b"
      },
      "source": [
        "index_train = np.zeros((nClass,1), list)\n",
        "index_test  = np.zeros((nClass,1), list)\n",
        "\n",
        "number_index_train  = np.zeros(nClass)\n",
        "number_index_test   = np.zeros(nClass)\n",
        "\n",
        "for i in range(nClass):\n",
        "\n",
        "    index_train[i]  = [range(i*2000, (i+1)*2000)]\n",
        "    index_test[i]   = [range(i*900, (i+1)*900)]\n",
        "\n",
        "    number_index_train[i]   = len(index_train[i][0])\n",
        "    number_index_test[i]    = len(index_test[i][0])\n",
        "\n",
        "print('number of training images for each class: ', number_index_train)\n",
        "print('number of testing images for each class: ', number_index_test)"
      ],
      "execution_count": 43,
      "outputs": [
        {
          "output_type": "stream",
          "name": "stdout",
          "text": [
            "number of training images for each class:  [2000. 2000. 2000. 2000. 2000.]\n",
            "number of testing images for each class:  [900. 900. 900. 900. 900.]\n"
          ]
        }
      ]
    },
    {
      "cell_type": "markdown",
      "metadata": {
        "id": "rScnwCVayHFE"
      },
      "source": [
        "## plot data"
      ]
    },
    {
      "cell_type": "code",
      "metadata": {
        "id": "iz7J7_CAyHFE"
      },
      "source": [
        "def plot_data_grid(data, index_data, nRow, nCol):\n",
        "\n",
        "    fig, axes = plt.subplots(nRow, nCol, constrained_layout=True, figsize=(nCol * 3, nRow * 3))\n",
        "\n",
        "    for i in range(nRow):\n",
        "        for j in range(nCol):\n",
        "\n",
        "            k       = i * nCol + j\n",
        "            index   = index_data[k]\n",
        "\n",
        "            axes[i, j].imshow(data[index], cmap='gray', vmin=0, vmax=1)\n",
        "            axes[i, j].xaxis.set_visible(False)\n",
        "            axes[i, j].yaxis.set_visible(False)\n",
        "\n",
        "    plt.show()"
      ],
      "execution_count": 44,
      "outputs": []
    },
    {
      "cell_type": "code",
      "metadata": {
        "id": "wbHDzxI-yHFF"
      },
      "source": [
        "nRow    = 2\n",
        "nCol    = 4\n",
        "nPlot   = nRow * nCol"
      ],
      "execution_count": 45,
      "outputs": []
    },
    {
      "cell_type": "code",
      "metadata": {
        "colab": {
          "base_uri": "https://localhost:8080/",
          "height": 1000
        },
        "id": "M-oBfqM1yHFF",
        "outputId": "4f60c20a-f41b-4712-ab4b-f4338c679a24"
      },
      "source": [
        "for i in range(nClass):\n",
        "\n",
        "    index_class_plot = index_train[i][0][0:nPlot]\n",
        "    plot_data_grid(x_train, index_class_plot, nRow, nCol)"
      ],
      "execution_count": 46,
      "outputs": [
        {
          "output_type": "display_data",
          "data": {
            "image/png": "[encoded data removed]",
            "text/plain": [
              "<Figure size 864x432 with 8 Axes>"
            ]
          },
          "metadata": {
            "needs_background": "light"
          }
        },
        {
          "output_type": "display_data",
          "data": {
            "image/png": "[encoded data removed]",
            "text/plain": [
              "<Figure size 864x432 with 8 Axes>"
            ]
          },
          "metadata": {
            "needs_background": "light"
          }
        },
        {
          "output_type": "display_data",
          "data": {
            "image/png": "[encoded data removed]",
            "text/plain": [
              "<Figure size 864x432 with 8 Axes>"
            ]
          },
          "metadata": {
            "needs_background": "light"
          }
        },
        {
          "output_type": "display_data",
          "data": {
            "image/png": "[encoded data removed]",
            "text/plain": [
              "<Figure size 864x432 with 8 Axes>"
            ]
          },
          "metadata": {
            "needs_background": "light"
          }
        },
        {
          "output_type": "display_data",
          "data": {
            "image/png": "[encoded data removed]",
            "text/plain": [
              "<Figure size 864x432 with 8 Axes>"
            ]
          },
          "metadata": {
            "needs_background": "light"
          }
        }
      ]
    },
    {
      "cell_type": "markdown",
      "metadata": {
        "id": "tii0XAkpyHFG"
      },
      "source": [
        "## linear layer"
      ]
    },
    {
      "cell_type": "code",
      "metadata": {
        "id": "ff80IC-6yHFG"
      },
      "source": [
        "def layer_linear(input, weight):\n",
        "\n",
        "    output = np.dot(weight, np.transpose(input))\n",
        "\n",
        "    return output"
      ],
      "execution_count": 12,
      "outputs": []
    },
    {
      "cell_type": "markdown",
      "metadata": {
        "id": "wxsQ8lAQyHFH"
      },
      "source": [
        "## Softmax function"
      ]
    },
    {
      "cell_type": "code",
      "metadata": {
        "id": "NwawESDdyHFH"
      },
      "source": [
        "def activation_softmax(input):\n",
        "\n",
        "    output = np.exp(input) / np.sum(np.exp(input))\n",
        "\n",
        "    return output"
      ],
      "execution_count": 13,
      "outputs": []
    },
    {
      "cell_type": "markdown",
      "metadata": {
        "id": "HBjb40GZyHFI"
      },
      "source": [
        "## compute prediction by the forward propagation of the neural network"
      ]
    },
    {
      "cell_type": "code",
      "metadata": {
        "id": "CXeT6qDiyHFI"
      },
      "source": [
        "def compute_prediction(input, weight):\n",
        "\n",
        "    output      = layer_linear(input, weight)\n",
        "    prediction  = activation_softmax(output)\n",
        "\n",
        "    return prediction"
      ],
      "execution_count": 14,
      "outputs": []
    },
    {
      "cell_type": "markdown",
      "metadata": {
        "id": "pqdC3EdIyHFI"
      },
      "source": [
        "## compute loss function"
      ]
    },
    {
      "cell_type": "code",
      "metadata": {
        "id": "aa3XVY9RyHFJ"
      },
      "source": [
        "def compute_loss(prediction, label):\n",
        "\n",
        "    # loss = np.sum(-np.sum(np.multiply(np.transpose(label), np.log(prediction)), axis = 0), axis = 0) / len(label)\n",
        "    loss = -np.sum(np.multiply(np.transpose(label), np.log(prediction))) / len(label)\n",
        "\n",
        "\n",
        "    return loss"
      ],
      "execution_count": 15,
      "outputs": []
    },
    {
      "cell_type": "markdown",
      "metadata": {
        "id": "mWrYkAh3yHFJ"
      },
      "source": [
        "## compute gradient"
      ]
    },
    {
      "cell_type": "code",
      "metadata": {
        "id": "DeA2-Af-yHFJ"
      },
      "source": [
        "def compute_gradient(input, prediction, label):\n",
        "\n",
        "    gradient = np.dot((prediction - np.transpose(label)), input)\n",
        "\n",
        "    return gradient"
      ],
      "execution_count": 16,
      "outputs": []
    },
    {
      "cell_type": "markdown",
      "metadata": {
        "id": "IOkAr-UoyHFJ"
      },
      "source": [
        "## compute accuracy"
      ]
    },
    {
      "cell_type": "code",
      "metadata": {
        "id": "EUpwL8r_yHFK"
      },
      "source": [
        "def compute_accuracy(prediction, label):\n",
        "\n",
        "    bCorrect    = np.equal(np.argmax(prediction),np.argmax(label))\n",
        "    accuracy    = np.sum(bCorrect) / len(label)\n",
        "\n",
        "    return accuracy"
      ],
      "execution_count": 17,
      "outputs": []
    },
    {
      "cell_type": "markdown",
      "metadata": {
        "id": "SqbHSTAxyHFK"
      },
      "source": [
        "## initialize weight"
      ]
    },
    {
      "cell_type": "code",
      "metadata": {
        "colab": {
          "base_uri": "https://localhost:8080/"
        },
        "id": "gZSzcfZCyHFK",
        "outputId": "121f04f7-dda9-40d2-9c57-30163c098e23"
      },
      "source": [
        "dim_input   = vector_x_train.shape[1]\n",
        "dim_output  = nClass\n",
        "weight      = np.ones((dim_output, dim_input))\n",
        "weight      = weight * 0.001\n",
        "\n",
        "print('size of weights: ', weight.shape)"
      ],
      "execution_count": 18,
      "outputs": [
        {
          "output_type": "stream",
          "name": "stdout",
          "text": [
            "size of weights:  (5, 784)\n"
          ]
        }
      ]
    },
    {
      "cell_type": "markdown",
      "metadata": {
        "id": "j8mgjQfzyHFL"
      },
      "source": [
        "## hyper-parameters"
      ]
    },
    {
      "cell_type": "code",
      "metadata": {
        "id": "8ZHYG-TtyHFL"
      },
      "source": [
        "number_iteration    = 2000\n",
        "learning_rate       = 0.5 "
      ],
      "execution_count": 19,
      "outputs": []
    },
    {
      "cell_type": "code",
      "metadata": {
        "colab": {
          "base_uri": "https://localhost:8080/"
        },
        "id": "ylo7g57PioL5",
        "outputId": "9121b2ce-8dc8-4f3a-dacd-4623f4f1b60b"
      },
      "source": [
        "result = layer_linear(vector_x_train, weight)\n",
        "print(result.shape)"
      ],
      "execution_count": 65,
      "outputs": [
        {
          "output_type": "stream",
          "name": "stdout",
          "text": [
            "(5, 10000)\n"
          ]
        }
      ]
    },
    {
      "cell_type": "markdown",
      "metadata": {
        "id": "5z1Box1NyHFL"
      },
      "source": [
        "## variables for optimization information"
      ]
    },
    {
      "cell_type": "code",
      "metadata": {
        "id": "MvzQotRdyHFM"
      },
      "source": [
        "loss_train_iteration        = np.zeros(number_iteration)\n",
        "loss_test_iteration         = np.zeros(number_iteration)\n",
        "\n",
        "accuracy_train_iteration    = np.zeros(number_iteration)\n",
        "accuracy_test_iteration     = np.zeros(number_iteration)\n",
        "\n",
        "pred_train_mean_iteration   = np.zeros((nClass, number_iteration)) \n",
        "pred_train_std_iteration    = np.zeros((nClass, number_iteration)) \n",
        "pred_test_mean_iteration    = np.zeros((nClass, number_iteration)) \n",
        "pred_test_std_iteration     = np.zeros((nClass, number_iteration)) "
      ],
      "execution_count": 21,
      "outputs": []
    },
    {
      "cell_type": "markdown",
      "metadata": {
        "id": "7Y3XkJeMyHFM"
      },
      "source": [
        "## gradient descent iterations"
      ]
    },
    {
      "cell_type": "code",
      "metadata": {
        "colab": {
          "base_uri": "https://localhost:8080/"
        },
        "id": "em_mzRM2yHFN",
        "outputId": "f85ad11a-5561-4cf8-8a29-f727a6c46775"
      },
      "source": [
        "for i in tqdm(range(number_iteration)):\n",
        "\n",
        "    prediction_train    = compute_prediction(vector_x_train, weight)\n",
        "    prediction_test     = compute_prediction(vector_x_test, weight)\n",
        "\n",
        "    gradient_train      = compute_gradient(vector_x_train, prediction_train, y_train)\n",
        "    weight              = weight - learning_rate * np.sum(gradient_train, axis=0) / len(vector_x_train)\n",
        "\n",
        "    prediction_train    = compute_prediction(vector_x_train, weight)\n",
        "    prediction_test     = compute_prediction(vector_x_test, weight)\n",
        "\n",
        "    loss_train          = compute_loss(prediction_train, y_train)\n",
        "    loss_test           = compute_loss(prediction_test, y_test)\n",
        "\n",
        "    accuracy_train      = compute_accuracy(prediction_train, y_train)\n",
        "    accuracy_test       = compute_accuracy(prediction_test, y_test)\n",
        "\n",
        "    # for j in range(nClass):\n",
        "\n",
        "    #     pred_train    = prediction_train[index_train[j][0]][:, j]\n",
        "    #     pred_test     = prediction_test[index_test[j][0]][:, j]\n",
        "\n",
        "    #     pred_train_mean_iteration[j, i] = np.mean(pred_train)\n",
        "    #     pred_train_std_iteration[j, i]  = np.std(pred_train)\n",
        "        \n",
        "    #     pred_test_mean_iteration[j, i]  = np.mean(pred_test)\n",
        "    #     pred_test_std_iteration[j, i]   = np.std(pred_test)\n",
        "\n",
        "    loss_train_iteration[i]         = loss_train\n",
        "    loss_test_iteration[i]          = loss_test\n",
        "\n",
        "    accuracy_train_iteration[i]     = accuracy_train \n",
        "    accuracy_test_iteration[i]      = accuracy_test"
      ],
      "execution_count": 22,
      "outputs": [
        {
          "output_type": "stream",
          "name": "stderr",
          "text": [
            "  1%|          | 15/2000 [00:02<05:03,  6.53it/s]/usr/local/lib/python3.7/dist-packages/ipykernel_launcher.py:3: RuntimeWarning: overflow encountered in exp\n",
            "  This is separate from the ipykernel package so we can avoid doing imports until\n",
            "/usr/local/lib/python3.7/dist-packages/ipykernel_launcher.py:3: RuntimeWarning: invalid value encountered in true_divide\n",
            "  This is separate from the ipykernel package so we can avoid doing imports until\n",
            "/usr/local/lib/python3.7/dist-packages/ipykernel_launcher.py:4: RuntimeWarning: divide by zero encountered in log\n",
            "  after removing the cwd from sys.path.\n",
            "/usr/local/lib/python3.7/dist-packages/ipykernel_launcher.py:4: RuntimeWarning: invalid value encountered in multiply\n",
            "  after removing the cwd from sys.path.\n",
            "100%|██████████| 2000/2000 [04:49<00:00,  6.91it/s]\n"
          ]
        }
      ]
    },
    {
      "cell_type": "markdown",
      "metadata": {
        "id": "WCz0S1FOyHFO"
      },
      "source": [
        "## plot curve"
      ]
    },
    {
      "cell_type": "code",
      "metadata": {
        "id": "dfwEphtZyHFO"
      },
      "source": [
        "def plot_curve(data, x_label, y_label, title):\n",
        "    \n",
        "    plt.figure(figsize=(8, 6))\n",
        "    plt.title(title)\n",
        "\n",
        "    plt.plot(range(len(data)), data, '-', color='red')\n",
        "    \n",
        "    plt.xlabel(x_label)\n",
        "    plt.ylabel(y_label)\n",
        "\n",
        "    plt.tight_layout()\n",
        "    plt.show()"
      ],
      "execution_count": 23,
      "outputs": []
    },
    {
      "cell_type": "code",
      "metadata": {
        "id": "QaA4WfdGyHFO"
      },
      "source": [
        "def plot_curve2(data1, label_data1, data2, label_data2, x_label, y_label, title):\n",
        "    \n",
        "    plt.figure(figsize=(8, 6))\n",
        "    plt.title(title)\n",
        "\n",
        "    plt.plot(range(len(data1)), data1, '-', color = 'blue', label = label_data1)\n",
        "    plt.plot(range(len(data2)), data2, '-', color = 'red', label = label_data2)\n",
        "     \n",
        "    plt.xlabel(x_label)\n",
        "    plt.ylabel(y_label)\n",
        "\n",
        "    plt.tight_layout()\n",
        "    plt.show()"
      ],
      "execution_count": 24,
      "outputs": []
    },
    {
      "cell_type": "code",
      "metadata": {
        "id": "bNms3gbXyHFP"
      },
      "source": [
        "def plot_curve_error(data_mean, data_std, x_label, y_label, title):\n",
        "\n",
        "    plt.figure(figsize=(8, 6))\n",
        "    plt.title(title)\n",
        "\n",
        "    alpha = 0.3\n",
        "    \n",
        "    plt.plot(range(len(data_mean)), data_mean, '-', color = 'red')\n",
        "    plt.fill_between(range(len(data_mean)), data_mean - data_std, data_mean + data_std, facecolor = 'blue', alpha = alpha) \n",
        "    \n",
        "    plt.xlabel(x_label)\n",
        "    plt.ylabel(y_label)\n",
        "\n",
        "    plt.tight_layout()\n",
        "    plt.show()"
      ],
      "execution_count": 25,
      "outputs": []
    },
    {
      "cell_type": "code",
      "metadata": {
        "id": "OkJR8-RhyHFP"
      },
      "source": [
        "def plot_curve_error2(data1_mean, data1_std, data1_label, data2_mean, data2_std, data2_label, x_label, y_label, title):\n",
        "    \n",
        "    plt.figure(figsize=(8, 6))\n",
        "    plt.title(title)\n",
        "\n",
        "    alpha = 0.3\n",
        "\n",
        "    plt.plot(range(len(data1_mean)), data1_mean, '-', color = 'blue', label = data1_label)\n",
        "    plt.fill_between(range(len(data1_mean)), data1_mean - data1_std, data1_mean + data1_std, facecolor = 'blue', alpha = alpha)\n",
        "\n",
        "    plt.plot(range(len(data2_mean)), data2_mean, '-', color = 'red', label = data2_label)\n",
        "    plt.fill_between(range(len(data2_mean)), data2_mean - data2_std, data2_mean + data2_std, facecolor = 'red', alpha = alpha)\n",
        "\n",
        "    plt.xlabel(x_label)\n",
        "    plt.ylabel(y_label)\n",
        "\n",
        "    plt.tight_layout()\n",
        "    plt.show()"
      ],
      "execution_count": 26,
      "outputs": []
    },
    {
      "cell_type": "markdown",
      "metadata": {
        "id": "fGEUIP1SyHFQ"
      },
      "source": [
        "## loss (training) curve"
      ]
    },
    {
      "cell_type": "code",
      "metadata": {
        "colab": {
          "base_uri": "https://localhost:8080/",
          "height": 441
        },
        "id": "iwju19bQyHFQ",
        "outputId": "c7073d13-4f56-4160-cedc-0560e374ffcd"
      },
      "source": [
        "plot_curve(loss_train_iteration, 'iteration', 'loss', 'loss (training) curve')"
      ],
      "execution_count": 27,
      "outputs": [
        {
          "output_type": "display_data",
          "data": {
            "image/png": "[encoded data removed]",
            "text/plain": [
              "<Figure size 576x432 with 1 Axes>"
            ]
          },
          "metadata": {
            "needs_background": "light"
          }
        }
      ]
    },
    {
      "cell_type": "markdown",
      "metadata": {
        "id": "SUh4hvMKyHFQ"
      },
      "source": [
        "## loss (testing) curve"
      ]
    },
    {
      "cell_type": "code",
      "metadata": {
        "colab": {
          "base_uri": "https://localhost:8080/",
          "height": 441
        },
        "id": "Tsfr01OnyHFR",
        "outputId": "726e4bdc-f918-46ef-b661-9bed17b5176b"
      },
      "source": [
        "plot_curve(loss_test_iteration, 'iteration', 'loss', 'loss (testing) curve')"
      ],
      "execution_count": 28,
      "outputs": [
        {
          "output_type": "display_data",
          "data": {
            "image/png": "[encoded data removed]",
            "text/plain": [
              "<Figure size 576x432 with 1 Axes>"
            ]
          },
          "metadata": {
            "needs_background": "light"
          }
        }
      ]
    },
    {
      "cell_type": "markdown",
      "metadata": {
        "id": "UK8MN0_XyHFR"
      },
      "source": [
        "## accuracy (training) curve"
      ]
    },
    {
      "cell_type": "code",
      "metadata": {
        "colab": {
          "base_uri": "https://localhost:8080/",
          "height": 441
        },
        "id": "ixKScJ46yHFR",
        "outputId": "056a9f52-909a-4732-a956-8b9a872393f5"
      },
      "source": [
        "plot_curve(accuracy_train_iteration, 'iteration', 'accuracy', 'accuracy (training) curve')"
      ],
      "execution_count": 29,
      "outputs": [
        {
          "output_type": "display_data",
          "data": {
            "image/png": "[encoded data removed]",
            "text/plain": [
              "<Figure size 576x432 with 1 Axes>"
            ]
          },
          "metadata": {
            "needs_background": "light"
          }
        }
      ]
    },
    {
      "cell_type": "markdown",
      "metadata": {
        "id": "jz96ZrgmyHFS"
      },
      "source": [
        "## accuracy (testing) curve"
      ]
    },
    {
      "cell_type": "code",
      "metadata": {
        "colab": {
          "base_uri": "https://localhost:8080/",
          "height": 441
        },
        "id": "2zOylhb8yHFS",
        "outputId": "69c2ad72-d371-4f72-f90a-ce2a074b0b72"
      },
      "source": [
        "plot_curve(accuracy_test_iteration, 'iteration', 'accuracy', 'accuracy (testing) curve')"
      ],
      "execution_count": 30,
      "outputs": [
        {
          "output_type": "display_data",
          "data": {
            "image/png": "[encoded data removed]",
            "text/plain": [
              "<Figure size 576x432 with 1 Axes>"
            ]
          },
          "metadata": {
            "needs_background": "light"
          }
        }
      ]
    },
    {
      "cell_type": "markdown",
      "metadata": {
        "id": "c3NxUwsVyHFS"
      },
      "source": [
        "## plot prediction values"
      ]
    },
    {
      "cell_type": "code",
      "metadata": {
        "colab": {
          "base_uri": "https://localhost:8080/",
          "height": 1000
        },
        "id": "6cVcb5wOyHFS",
        "outputId": "621171d6-9b62-474a-c6e2-edfeb8907fe3"
      },
      "source": [
        "for i in range(nClass):\n",
        "    \n",
        "    plot_curve_error(pred_train_mean_iteration[i], pred_train_std_iteration[i], 'iteration', 'prediction', 'prediction (training)')"
      ],
      "execution_count": 31,
      "outputs": [
        {
          "output_type": "display_data",
          "data": {
            "image/png": "[encoded data removed]",
            "text/plain": [
              "<Figure size 576x432 with 1 Axes>"
            ]
          },
          "metadata": {
            "needs_background": "light"
          }
        },
        {
          "output_type": "display_data",
          "data": {
            "image/png": "[encoded data removed]",
            "text/plain": [
              "<Figure size 576x432 with 1 Axes>"
            ]
          },
          "metadata": {
            "needs_background": "light"
          }
        },
        {
          "output_type": "display_data",
          "data": {
            "image/png": "[encoded data removed]",
            "text/plain": [
              "<Figure size 576x432 with 1 Axes>"
            ]
          },
          "metadata": {
            "needs_background": "light"
          }
        },
        {
          "output_type": "display_data",
          "data": {
            "image/png": "[encoded data removed]",
            "text/plain": [
              "<Figure size 576x432 with 1 Axes>"
            ]
          },
          "metadata": {
            "needs_background": "light"
          }
        },
        {
          "output_type": "display_data",
          "data": {
            "image/png": "[encoded data removed]",
            "text/plain": [
              "<Figure size 576x432 with 1 Axes>"
            ]
          },
          "metadata": {
            "needs_background": "light"
          }
        }
      ]
    },
    {
      "cell_type": "code",
      "metadata": {
        "colab": {
          "base_uri": "https://localhost:8080/",
          "height": 1000
        },
        "id": "_lKItD_gyHFT",
        "outputId": "25fa8015-c390-4b06-f770-ea16953e7b91"
      },
      "source": [
        "for i in range(nClass):\n",
        "    \n",
        "    plot_curve_error(pred_test_mean_iteration[i], pred_test_std_iteration[i], 'iteration', 'prediction', 'prediction (training)')"
      ],
      "execution_count": 32,
      "outputs": [
        {
          "output_type": "display_data",
          "data": {
            "image/png": "[encoded data removed]",
            "text/plain": [
              "<Figure size 576x432 with 1 Axes>"
            ]
          },
          "metadata": {
            "needs_background": "light"
          }
        },
        {
          "output_type": "display_data",
          "data": {
            "image/png": "[encoded data removed]",
            "text/plain": [
              "<Figure size 576x432 with 1 Axes>"
            ]
          },
          "metadata": {
            "needs_background": "light"
          }
        },
        {
          "output_type": "display_data",
          "data": {
            "image/png": "[encoded data removed]",
            "text/plain": [
              "<Figure size 576x432 with 1 Axes>"
            ]
          },
          "metadata": {
            "needs_background": "light"
          }
        },
        {
          "output_type": "display_data",
          "data": {
            "image/png": "[encoded data removed]",
            "text/plain": [
              "<Figure size 576x432 with 1 Axes>"
            ]
          },
          "metadata": {
            "needs_background": "light"
          }
        },
        {
          "output_type": "display_data",
          "data": {
            "image/png": "[encoded data removed]",
            "text/plain": [
              "<Figure size 576x432 with 1 Axes>"
            ]
          },
          "metadata": {
            "needs_background": "light"
          }
        }
      ]
    },
    {
      "cell_type": "markdown",
      "metadata": {
        "id": "TQbmmg92yHFT"
      },
      "source": [
        "## print values"
      ]
    },
    {
      "cell_type": "code",
      "metadata": {
        "id": "IXbiWwznyHFT"
      },
      "source": [
        "def print_curve(data, index):\n",
        "\n",
        "    for i in range(len(index)):\n",
        "\n",
        "        idx = index[i]\n",
        "        val = data[idx]\n",
        "\n",
        "        print('index = %4d, value = %12.10f' % (idx, val))"
      ],
      "execution_count": 33,
      "outputs": []
    },
    {
      "cell_type": "markdown",
      "metadata": {
        "id": "zZQan3HUyHFU"
      },
      "source": [
        "## given iterations at which the values are presented"
      ]
    },
    {
      "cell_type": "code",
      "metadata": {
        "id": "ndItru4dyHFU"
      },
      "source": [
        "index = np.array([0, 100, 200, 300, 400, 500, 600, 700, 800, 900])"
      ],
      "execution_count": 34,
      "outputs": []
    },
    {
      "cell_type": "markdown",
      "metadata": {
        "id": "1qlkYQ9wyHFU"
      },
      "source": [
        "## training loss"
      ]
    },
    {
      "cell_type": "code",
      "metadata": {
        "colab": {
          "base_uri": "https://localhost:8080/"
        },
        "id": "8RA6Yr_byHFV",
        "outputId": "141540bc-e585-464e-cc50-e2c671b87978"
      },
      "source": [
        "print_curve(loss_train_iteration, index)"
      ],
      "execution_count": 35,
      "outputs": [
        {
          "output_type": "stream",
          "name": "stdout",
          "text": [
            "index =    0, value = 28.7756178542\n",
            "index =  100, value =          nan\n",
            "index =  200, value =          nan\n",
            "index =  300, value =          nan\n",
            "index =  400, value =          nan\n",
            "index =  500, value =          nan\n",
            "index =  600, value =          nan\n",
            "index =  700, value =          nan\n",
            "index =  800, value =          nan\n",
            "index =  900, value =          nan\n"
          ]
        }
      ]
    },
    {
      "cell_type": "markdown",
      "metadata": {
        "id": "nVSSwCUcyHFV"
      },
      "source": [
        "## testing loss"
      ]
    },
    {
      "cell_type": "code",
      "metadata": {
        "colab": {
          "base_uri": "https://localhost:8080/"
        },
        "id": "g3-_quegyHFV",
        "outputId": "631a6eda-5ccf-462b-b473-7aa6e623a367"
      },
      "source": [
        "print_curve(loss_test_iteration, index)"
      ],
      "execution_count": 36,
      "outputs": [
        {
          "output_type": "stream",
          "name": "stdout",
          "text": [
            "index =    0, value = 24.4801294120\n",
            "index =  100, value =          nan\n",
            "index =  200, value =          nan\n",
            "index =  300, value =          nan\n",
            "index =  400, value =          nan\n",
            "index =  500, value =          nan\n",
            "index =  600, value =          nan\n",
            "index =  700, value =          nan\n",
            "index =  800, value =          nan\n",
            "index =  900, value =          nan\n"
          ]
        }
      ]
    },
    {
      "cell_type": "markdown",
      "metadata": {
        "id": "n8dxQGpHyHFW"
      },
      "source": [
        "## training accuracy"
      ]
    },
    {
      "cell_type": "code",
      "metadata": {
        "colab": {
          "base_uri": "https://localhost:8080/"
        },
        "id": "XK7db6TIyHFW",
        "outputId": "bbc003df-027f-4631-836e-2ddefa503635"
      },
      "source": [
        "print_curve(accuracy_train_iteration, index)"
      ],
      "execution_count": 37,
      "outputs": [
        {
          "output_type": "stream",
          "name": "stdout",
          "text": [
            "index =    0, value = 0.0000000000\n",
            "index =  100, value = 0.0001000000\n",
            "index =  200, value = 0.0001000000\n",
            "index =  300, value = 0.0001000000\n",
            "index =  400, value = 0.0001000000\n",
            "index =  500, value = 0.0001000000\n",
            "index =  600, value = 0.0001000000\n",
            "index =  700, value = 0.0001000000\n",
            "index =  800, value = 0.0001000000\n",
            "index =  900, value = 0.0001000000\n"
          ]
        }
      ]
    },
    {
      "cell_type": "markdown",
      "metadata": {
        "id": "TQg2WsUEyHFW"
      },
      "source": [
        "## testing accuracy"
      ]
    },
    {
      "cell_type": "code",
      "metadata": {
        "colab": {
          "base_uri": "https://localhost:8080/"
        },
        "id": "WCa4r9-XyHFW",
        "outputId": "33dcd14b-c7ac-4ff5-e6ae-a912108c95a2"
      },
      "source": [
        "print_curve(accuracy_test_iteration, index)"
      ],
      "execution_count": 38,
      "outputs": [
        {
          "output_type": "stream",
          "name": "stdout",
          "text": [
            "index =    0, value = 0.0000000000\n",
            "index =  100, value = 0.0002222222\n",
            "index =  200, value = 0.0002222222\n",
            "index =  300, value = 0.0002222222\n",
            "index =  400, value = 0.0002222222\n",
            "index =  500, value = 0.0002222222\n",
            "index =  600, value = 0.0002222222\n",
            "index =  700, value = 0.0002222222\n",
            "index =  800, value = 0.0002222222\n",
            "index =  900, value = 0.0002222222\n"
          ]
        }
      ]
    },
    {
      "cell_type": "markdown",
      "metadata": {
        "id": "QI0ggsROyHFW"
      },
      "source": [
        "## functions for presenting the results"
      ]
    },
    {
      "cell_type": "code",
      "metadata": {
        "id": "U3a21VdVyHFX"
      },
      "source": [
        "def function_results_01(*args):\n",
        "    \n",
        "    pass"
      ],
      "execution_count": 39,
      "outputs": []
    },
    {
      "cell_type": "code",
      "metadata": {
        "id": "fjqywWaxyHFX"
      },
      "source": [
        "def function_results_02(*args):\n",
        "    \n",
        "    pass"
      ],
      "execution_count": 40,
      "outputs": []
    },
    {
      "cell_type": "code",
      "metadata": {
        "id": "kbYMiHE5yHFX"
      },
      "source": [
        "def function_results_03(*args):\n",
        "    \n",
        "    pass"
      ],
      "execution_count": 41,
      "outputs": []
    },
    {
      "cell_type": "code",
      "metadata": {
        "id": "6P5L28NFyHFX"
      },
      "source": [
        "def function_results_04(*args):\n",
        "    \n",
        "    pass"
      ],
      "execution_count": 42,
      "outputs": []
    },
    {
      "cell_type": "code",
      "metadata": {
        "id": "1oIAAODjyHFX"
      },
      "source": [
        "def function_results_05(*args):\n",
        "    \n",
        "    pass"
      ],
      "execution_count": 43,
      "outputs": []
    },
    {
      "cell_type": "code",
      "metadata": {
        "id": "yGiQTNXHyHFX"
      },
      "source": [
        "def function_results_06(*args):\n",
        "    \n",
        "    pass"
      ],
      "execution_count": 44,
      "outputs": []
    },
    {
      "cell_type": "code",
      "metadata": {
        "id": "_VDoXpZtyHFX"
      },
      "source": [
        "def function_results_07(*args):\n",
        "    \n",
        "    pass"
      ],
      "execution_count": 45,
      "outputs": []
    },
    {
      "cell_type": "code",
      "metadata": {
        "id": "qMaFpcXCyHFY"
      },
      "source": [
        "def function_results_08(*args):\n",
        "    \n",
        "    pass"
      ],
      "execution_count": 46,
      "outputs": []
    },
    {
      "cell_type": "code",
      "metadata": {
        "id": "4YaNOjMCyHFY"
      },
      "source": [
        "def function_results_09(*args):\n",
        "    \n",
        "    pass"
      ],
      "execution_count": 47,
      "outputs": []
    },
    {
      "cell_type": "code",
      "metadata": {
        "id": "fdVn792cyHFY"
      },
      "source": [
        "def function_results_10(*args):\n",
        "    \n",
        "    pass"
      ],
      "execution_count": 48,
      "outputs": []
    },
    {
      "cell_type": "code",
      "metadata": {
        "id": "cOTnDR1eyHFY"
      },
      "source": [
        "def function_results_11(*args):\n",
        "    \n",
        "    pass"
      ],
      "execution_count": 49,
      "outputs": []
    },
    {
      "cell_type": "code",
      "metadata": {
        "id": "tKMokvZeyHFY"
      },
      "source": [
        "def function_results_12(*args):\n",
        "    \n",
        "    pass"
      ],
      "execution_count": 50,
      "outputs": []
    },
    {
      "cell_type": "code",
      "metadata": {
        "id": "gWQq8A1-yHFY"
      },
      "source": [
        "def function_results_13(*args):\n",
        "    \n",
        "    pass"
      ],
      "execution_count": 51,
      "outputs": []
    },
    {
      "cell_type": "markdown",
      "metadata": {
        "id": "vqE30RudyHFY"
      },
      "source": [
        "---"
      ]
    },
    {
      "cell_type": "markdown",
      "metadata": {
        "id": "KSv7MfPtyHFY"
      },
      "source": [
        "# RESULTS"
      ]
    },
    {
      "cell_type": "markdown",
      "metadata": {
        "id": "Qzgeg4aOyHFZ"
      },
      "source": [
        "---"
      ]
    },
    {
      "cell_type": "markdown",
      "metadata": {
        "id": "FaE3ZzskyHFZ"
      },
      "source": [
        "## # 01. plot the input images for '0'"
      ]
    },
    {
      "cell_type": "code",
      "metadata": {
        "id": "Wv_l8i66yHFZ"
      },
      "source": [
        "function_results_01(...)"
      ],
      "execution_count": 52,
      "outputs": []
    },
    {
      "cell_type": "markdown",
      "metadata": {
        "id": "zbjo_2UCyHFZ"
      },
      "source": [
        "## # 02. plot the input images for '1'"
      ]
    },
    {
      "cell_type": "code",
      "metadata": {
        "id": "M8ykZG5uyHFZ"
      },
      "source": [
        "function_results_02(...)"
      ],
      "execution_count": 53,
      "outputs": []
    },
    {
      "cell_type": "markdown",
      "metadata": {
        "id": "kKbBH1UlyHFZ"
      },
      "source": [
        "## # 03. plot the input images for '2'"
      ]
    },
    {
      "cell_type": "code",
      "metadata": {
        "id": "vh2QdHIqyHFZ"
      },
      "source": [
        "function_results_03(...)"
      ],
      "execution_count": 54,
      "outputs": []
    },
    {
      "cell_type": "markdown",
      "metadata": {
        "id": "u5H1Le-ryHFa"
      },
      "source": [
        "## # 04. plot the input images for '3'"
      ]
    },
    {
      "cell_type": "code",
      "metadata": {
        "id": "112VUJZYyHFa"
      },
      "source": [
        "function_results_04(...)"
      ],
      "execution_count": 55,
      "outputs": []
    },
    {
      "cell_type": "markdown",
      "metadata": {
        "id": "pSEt7El-yHFa"
      },
      "source": [
        "## # 05. plot the input images for '4'"
      ]
    },
    {
      "cell_type": "code",
      "metadata": {
        "id": "D9fieUqGyHFa"
      },
      "source": [
        "function_results_05(...)"
      ],
      "execution_count": 56,
      "outputs": []
    },
    {
      "cell_type": "markdown",
      "metadata": {
        "id": "rTBfa7wbyHFa"
      },
      "source": [
        "## # 06. plot the training loss curve (x-axis: iteration, y-axis: loss)"
      ]
    },
    {
      "cell_type": "code",
      "metadata": {
        "id": "GPgdYLiCyHFa"
      },
      "source": [
        "function_results_06(...)"
      ],
      "execution_count": 57,
      "outputs": []
    },
    {
      "cell_type": "markdown",
      "metadata": {
        "id": "7MYu_ldAyHFb"
      },
      "source": [
        "## # 07. plot the testing loss curve (x-axis: iteration, y-axis: loss)"
      ]
    },
    {
      "cell_type": "code",
      "metadata": {
        "id": "PSy140-ByHFb"
      },
      "source": [
        "function_results_07(...)"
      ],
      "execution_count": 58,
      "outputs": []
    },
    {
      "cell_type": "markdown",
      "metadata": {
        "id": "Lkm0HTmiyHFb"
      },
      "source": [
        "## # 08. plot the training accuracy curve (x-axis: iteration, y-axis: accuracy)"
      ]
    },
    {
      "cell_type": "code",
      "metadata": {
        "id": "x4QAjmj7yHFb"
      },
      "source": [
        "function_results_08(...)"
      ],
      "execution_count": 59,
      "outputs": []
    },
    {
      "cell_type": "markdown",
      "metadata": {
        "id": "THdADB05yHFb"
      },
      "source": [
        "## # 09. plot the testing accuracy curve (x-axis: iteration, y-axis: accuracy)"
      ]
    },
    {
      "cell_type": "code",
      "metadata": {
        "id": "9x22fXybyHFb"
      },
      "source": [
        "function_results_09(...)"
      ],
      "execution_count": 60,
      "outputs": []
    },
    {
      "cell_type": "markdown",
      "metadata": {
        "id": "JxJsGI3byHFb"
      },
      "source": [
        "## # 10. print the training loss at iterations 0, 100, 200, 300, 400, 500, 600, 700, 800, 900"
      ]
    },
    {
      "cell_type": "code",
      "metadata": {
        "id": "LySGjxSOyHFb"
      },
      "source": [
        "function_results_10(...)"
      ],
      "execution_count": 61,
      "outputs": []
    },
    {
      "cell_type": "markdown",
      "metadata": {
        "id": "OPQr06RjyHFc"
      },
      "source": [
        "## # 11. print the testing loss at iterations 0, 100, 200, 300, 400, 500, 600, 700, 800, 900"
      ]
    },
    {
      "cell_type": "code",
      "metadata": {
        "id": "VBqgN5N5yHFd"
      },
      "source": [
        "function_results_11(...)"
      ],
      "execution_count": 62,
      "outputs": []
    },
    {
      "cell_type": "markdown",
      "metadata": {
        "id": "ip4oTOGByHFd"
      },
      "source": [
        "## # 12. print the training accuracy at iterations 0, 100, 200, 300, 400, 500, 600, 700, 800, 900"
      ]
    },
    {
      "cell_type": "code",
      "metadata": {
        "id": "qJoNR5nryHFd"
      },
      "source": [
        "function_results_12(...)"
      ],
      "execution_count": 63,
      "outputs": []
    },
    {
      "cell_type": "markdown",
      "metadata": {
        "id": "1E9DQXZeyHFf"
      },
      "source": [
        "## # 13. print the testing accuracy at iterations 0, 100, 200, 300, 400, 500, 600, 700, 800, 900"
      ]
    },
    {
      "cell_type": "code",
      "metadata": {
        "id": "1rLM1-FByHFf"
      },
      "source": [
        "function_results_13(...)"
      ],
      "execution_count": 64,
      "outputs": []
    },
    {
      "cell_type": "code",
      "metadata": {
        "id": "eiYcEh6IyHFf"
      },
      "source": [
        ""
      ],
      "execution_count": 64,
      "outputs": []
    }
  ]
}